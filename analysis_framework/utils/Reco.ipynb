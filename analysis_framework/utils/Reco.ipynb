{
 "cells": [
  {
   "cell_type": "code",
   "execution_count": null,
   "id": "bdfe4088",
   "metadata": {},
   "outputs": [],
   "source": [
    "amber = {\"0-40\": \"Harm-minimization strategies to pace oneself rather than allowing obligations to consume us - compartmentalize, use small periods of time for mental rest or physical decompression techniques.\",\n",
    "         \"40-80\": \"Stress is a happiness killer. Practice self-care, altering perspective can buffer the negative impacts of even inflexible aspects of work, reset expectations with colleagues, clients, seek rich interpersonal interactions.\",\n",
    "         \"80-100\": \"In busy organizational lives, ‘permission not to do’ needs to be negotiated. We don’t have the capacity to ‘do it all’. Moments of ‘not doing’ can spur creativity and productivity. Allow structured sabbaticals to undergo some program - renewed passion helps to combat burnout.\"}\n",
    "\n",
    "red = {\"0-40\": \"Human brain can focus for around 90-120 minutes then it needs rest. The need for regular breaks, calendar invites to take short breaks, encouraging private workspaces to cut down distractions, for teams across different geographies setting boundaries around time, flexible work options. Poorly run meetings also can be the biggest time sinks. Meeting hygiene to be followed like having an agenda, limited time, concrete action plan, having an email blackout.\",\n",
    "       \"40-80\": \"Stress makes people nearly three times as likely to leave their jobs, temporarily impairs strategic thinking and dulls creative abilities. Increasing psychological safety by giving clear goals, ensuring that everyone’s voices are heard, building a work environment that is challenging but not threatening. Ensuring good practices in place for gender equality.\",\n",
    "       \"80-100\": \"Make health a priority as an Organization, tackle the problem as a group, make downtime a priority, non-negotiable time off, peer coaching, develop a shared sense of ‘why’. Make rules to combat loneliness for employees like coming to the office once a week etc (hybrid model). Executive maturity – a shift from ego-drive to co-drive. Leadership showing empathy lack of which leads to depersonalization and emotional exhaustion.\"}\n",
    "\n",
    "locations_dropdown = ['Lucknow', 'Noida', 'Chennai', 'Pune',\n",
    "                      'Bengaluru', 'Mumbai', 'Hyderabad', 'Madurai',\n",
    "                      'Nagpur', 'New Delhi', 'Gurgaon', 'Coimbatore',\n",
    "                      'Kolkata', 'Jaipur', 'Ahmedabad', 'Thane',\n",
    "                      'Chandigarh', 'Kochi', 'Indore', 'Trivandrum',\n",
    "                      'Mangalore',  'Mangalore', 'Gandhinagar', 'Mysore',\n",
    "                      'Bhubaneshwar', 'Others']\n",
    "\n",
    "company_dropdown = ['HCL Technologies', 'Infosys', 'TCS', 'Wipro']"
   ]
  }
 ],
 "metadata": {
  "kernelspec": {
   "display_name": "Python 3",
   "language": "python",
   "name": "python3"
  },
  "language_info": {
   "codemirror_mode": {
    "name": "ipython",
    "version": 3
   },
   "file_extension": ".py",
   "mimetype": "text/x-python",
   "name": "python",
   "nbconvert_exporter": "python",
   "pygments_lexer": "ipython3",
   "version": "3.8.8"
  }
 },
 "nbformat": 4,
 "nbformat_minor": 5
}
