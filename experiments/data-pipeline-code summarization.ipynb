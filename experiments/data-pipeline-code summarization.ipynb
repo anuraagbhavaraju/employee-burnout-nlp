{
 "cells": [
  {
   "cell_type": "code",
   "execution_count": 1,
   "id": "3c6fd6c4",
   "metadata": {
    "_cell_guid": "b1076dfc-b9ad-4769-8c92-a6c4dae69d19",
    "_uuid": "8f2839f25d086af736a60e9eeb907d3b93b6e0e5",
    "execution": {
     "iopub.execute_input": "2022-07-11T18:48:35.188352Z",
     "iopub.status.busy": "2022-07-11T18:48:35.187835Z",
     "iopub.status.idle": "2022-07-11T18:48:35.211569Z",
     "shell.execute_reply": "2022-07-11T18:48:35.210167Z"
    },
    "papermill": {
     "duration": 0.040608,
     "end_time": "2022-07-11T18:48:35.215570",
     "exception": false,
     "start_time": "2022-07-11T18:48:35.174962",
     "status": "completed"
    },
    "tags": []
   },
   "outputs": [],
   "source": [
    "# This Python 3 environment comes with many helpful analytics libraries installed\n",
    "# It is defined by the kaggle/python Docker image: https://github.com/kaggle/docker-python\n",
    "# For example, here's several helpful packages to load\n",
    "\n",
    "import numpy as np # linear algebra\n",
    "import pandas as pd # data processing, CSV file I/O (e.g. pd.read_csv)\n",
    "\n",
    "# Input data files are available in the read-only \"../input/\" directory\n",
    "# For example, running this (by clicking run or pressing Shift+Enter) will list all files under the input directory\n",
    "\n",
    "import os\n",
    "for dirname, _, filenames in os.walk('/kaggle/input'):\n",
    "    for filename in filenames:\n",
    "        print(os.path.join(dirname, filename))\n",
    "\n",
    "# You can write up to 20GB to the current directory (/kaggle/working/) that gets preserved as output when you create a version using \"Save & Run All\" \n",
    "# You can also write temporary files to /kaggle/temp/, but they won't be saved outside of the current session"
   ]
  },
  {
   "cell_type": "code",
   "execution_count": 2,
   "id": "807e771d",
   "metadata": {
    "execution": {
     "iopub.execute_input": "2022-07-11T18:48:35.237610Z",
     "iopub.status.busy": "2022-07-11T18:48:35.237216Z",
     "iopub.status.idle": "2022-07-11T18:48:35.244660Z",
     "shell.execute_reply": "2022-07-11T18:48:35.243347Z"
    },
    "papermill": {
     "duration": 0.021523,
     "end_time": "2022-07-11T18:48:35.247073",
     "exception": false,
     "start_time": "2022-07-11T18:48:35.225550",
     "status": "completed"
    },
    "tags": []
   },
   "outputs": [],
   "source": [
    "import pandas as pd\n",
    "import numpy as np\n",
    "import matplotlib.pyplot as plt\n",
    "%matplotlib inline"
   ]
  },
  {
   "cell_type": "code",
   "execution_count": 3,
   "id": "7c6c3286",
   "metadata": {},
   "outputs": [],
   "source": [
    "from nltk.cluster.util import cosine_distance\n",
    "import networkx as nx"
   ]
  },
  {
   "cell_type": "code",
   "execution_count": 4,
   "id": "d643ea61",
   "metadata": {},
   "outputs": [
    {
     "name": "stderr",
     "output_type": "stream",
     "text": [
      "[nltk_data] Downloading package stopwords to\n",
      "[nltk_data]     C:\\Users\\bhava\\AppData\\Roaming\\nltk_data...\n",
      "[nltk_data]   Package stopwords is already up-to-date!\n"
     ]
    }
   ],
   "source": [
    "import nltk\n",
    "nltk.download('stopwords')\n",
    "\n",
    "import sys\n",
    "# !{sys.executable} -m spacy download en\n",
    "import re, numpy as np, pandas as pd\n",
    "from pprint import pprint\n",
    "\n",
    "# Gensim\n",
    "import gensim, spacy, logging, warnings\n",
    "import gensim.corpora as corpora\n",
    "from gensim.utils import lemmatize, simple_preprocess\n",
    "from gensim.models import CoherenceModel\n",
    "import matplotlib.pyplot as plt\n",
    "\n",
    "# NLTK Stop words\n",
    "from nltk.corpus import stopwords"
   ]
  },
  {
   "cell_type": "code",
   "execution_count": 5,
   "id": "211fdc63",
   "metadata": {
    "execution": {
     "iopub.execute_input": "2022-07-11T18:48:35.269243Z",
     "iopub.status.busy": "2022-07-11T18:48:35.268402Z",
     "iopub.status.idle": "2022-07-11T18:48:36.013265Z",
     "shell.execute_reply": "2022-07-11T18:48:36.012064Z"
    },
    "papermill": {
     "duration": 0.758751,
     "end_time": "2022-07-11T18:48:36.015718",
     "exception": false,
     "start_time": "2022-07-11T18:48:35.256967",
     "status": "completed"
    },
    "tags": []
   },
   "outputs": [
    {
     "data": {
      "text/html": [
       "<div>\n",
       "<style scoped>\n",
       "    .dataframe tbody tr th:only-of-type {\n",
       "        vertical-align: middle;\n",
       "    }\n",
       "\n",
       "    .dataframe tbody tr th {\n",
       "        vertical-align: top;\n",
       "    }\n",
       "\n",
       "    .dataframe thead th {\n",
       "        text-align: right;\n",
       "    }\n",
       "</style>\n",
       "<table border=\"1\" class=\"dataframe\">\n",
       "  <thead>\n",
       "    <tr style=\"text-align: right;\">\n",
       "      <th></th>\n",
       "      <th>skillDevelopment</th>\n",
       "      <th>reviewText</th>\n",
       "      <th>location</th>\n",
       "      <th>cons</th>\n",
       "      <th>salaryBenefits</th>\n",
       "      <th>workLifeBalance</th>\n",
       "      <th>pros</th>\n",
       "      <th>workSatisfaction</th>\n",
       "      <th>postedon</th>\n",
       "      <th>jobSecurity</th>\n",
       "      <th>careerGrowth</th>\n",
       "      <th>companyCulture</th>\n",
       "      <th>company</th>\n",
       "      <th>jobFunction</th>\n",
       "      <th>overallScore</th>\n",
       "      <th>file</th>\n",
       "    </tr>\n",
       "  </thead>\n",
       "  <tbody>\n",
       "    <tr>\n",
       "      <th>0</th>\n",
       "      <td>1.0</td>\n",
       "      <td>Its good and managable only because of team.</td>\n",
       "      <td>Lucknow</td>\n",
       "      <td>Fake offers were given while recruiting. Wrong...</td>\n",
       "      <td>1.0</td>\n",
       "      <td>3.0</td>\n",
       "      <td>Only my collegues and work culture. There is n...</td>\n",
       "      <td>3.0</td>\n",
       "      <td>21-Apr-22</td>\n",
       "      <td>4.0</td>\n",
       "      <td>1.0</td>\n",
       "      <td>4.0</td>\n",
       "      <td>HCL Technologies</td>\n",
       "      <td>Hr Executive</td>\n",
       "      <td>1.0</td>\n",
       "      <td>hcl</td>\n",
       "    </tr>\n",
       "    <tr>\n",
       "      <th>1</th>\n",
       "      <td>4.0</td>\n",
       "      <td>Very balanced and rarely pressuring.</td>\n",
       "      <td>Noida</td>\n",
       "      <td>* Although it's WFH as of now but no general t...</td>\n",
       "      <td>2.0</td>\n",
       "      <td>5.0</td>\n",
       "      <td>Overall good experience for me! Very much secu...</td>\n",
       "      <td>4.0</td>\n",
       "      <td>16-Apr-22</td>\n",
       "      <td>5.0</td>\n",
       "      <td>4.0</td>\n",
       "      <td>3.0</td>\n",
       "      <td>HCL Technologies</td>\n",
       "      <td>Technical Lead</td>\n",
       "      <td>4.0</td>\n",
       "      <td>hcl</td>\n",
       "    </tr>\n",
       "    <tr>\n",
       "      <th>2</th>\n",
       "      <td>3.0</td>\n",
       "      <td>working hours are 9:30 hours no shift allowanc...</td>\n",
       "      <td>Greater Noida</td>\n",
       "      <td>Management always listen what the manager sayi...</td>\n",
       "      <td>2.0</td>\n",
       "      <td>3.0</td>\n",
       "      <td>Job security is there Client or Customer centr...</td>\n",
       "      <td>1.0</td>\n",
       "      <td>20-Apr-22</td>\n",
       "      <td>4.0</td>\n",
       "      <td>2.0</td>\n",
       "      <td>2.0</td>\n",
       "      <td>HCL Technologies</td>\n",
       "      <td>Senior Specialist</td>\n",
       "      <td>3.0</td>\n",
       "      <td>hcl</td>\n",
       "    </tr>\n",
       "    <tr>\n",
       "      <th>3</th>\n",
       "      <td>1.0</td>\n",
       "      <td>Too bad for a mid level experienced. Enquire p...</td>\n",
       "      <td>Chennai</td>\n",
       "      <td>Work culture is too bad and experienced so man...</td>\n",
       "      <td>1.0</td>\n",
       "      <td>2.0</td>\n",
       "      <td>It is a growing organization and has multiple ...</td>\n",
       "      <td>1.0</td>\n",
       "      <td>09-Dec-21</td>\n",
       "      <td>4.0</td>\n",
       "      <td>1.0</td>\n",
       "      <td>1.0</td>\n",
       "      <td>HCL Technologies</td>\n",
       "      <td>Senior Technical Lead</td>\n",
       "      <td>1.0</td>\n",
       "      <td>hcl</td>\n",
       "    </tr>\n",
       "    <tr>\n",
       "      <th>4</th>\n",
       "      <td>1.0</td>\n",
       "      <td>Is there anything called work life balance her...</td>\n",
       "      <td>Chennai</td>\n",
       "      <td>Why not paying your employees good!? .Stop ove...</td>\n",
       "      <td>4.0</td>\n",
       "      <td>1.0</td>\n",
       "      <td>Hcl is avery good organization,But the middle ...</td>\n",
       "      <td>1.0</td>\n",
       "      <td>04-Mar-22</td>\n",
       "      <td>4.0</td>\n",
       "      <td>1.0</td>\n",
       "      <td>1.0</td>\n",
       "      <td>HCL Technologies</td>\n",
       "      <td>Software Engineer</td>\n",
       "      <td>1.0</td>\n",
       "      <td>hcl</td>\n",
       "    </tr>\n",
       "  </tbody>\n",
       "</table>\n",
       "</div>"
      ],
      "text/plain": [
       "   skillDevelopment                                         reviewText  \\\n",
       "0               1.0       Its good and managable only because of team.   \n",
       "1               4.0               Very balanced and rarely pressuring.   \n",
       "2               3.0  working hours are 9:30 hours no shift allowanc...   \n",
       "3               1.0  Too bad for a mid level experienced. Enquire p...   \n",
       "4               1.0  Is there anything called work life balance her...   \n",
       "\n",
       "        location                                               cons  \\\n",
       "0        Lucknow  Fake offers were given while recruiting. Wrong...   \n",
       "1          Noida  * Although it's WFH as of now but no general t...   \n",
       "2  Greater Noida  Management always listen what the manager sayi...   \n",
       "3        Chennai  Work culture is too bad and experienced so man...   \n",
       "4        Chennai  Why not paying your employees good!? .Stop ove...   \n",
       "\n",
       "   salaryBenefits  workLifeBalance  \\\n",
       "0             1.0              3.0   \n",
       "1             2.0              5.0   \n",
       "2             2.0              3.0   \n",
       "3             1.0              2.0   \n",
       "4             4.0              1.0   \n",
       "\n",
       "                                                pros  workSatisfaction  \\\n",
       "0  Only my collegues and work culture. There is n...               3.0   \n",
       "1  Overall good experience for me! Very much secu...               4.0   \n",
       "2  Job security is there Client or Customer centr...               1.0   \n",
       "3  It is a growing organization and has multiple ...               1.0   \n",
       "4  Hcl is avery good organization,But the middle ...               1.0   \n",
       "\n",
       "    postedon  jobSecurity  careerGrowth  companyCulture           company  \\\n",
       "0  21-Apr-22          4.0           1.0             4.0  HCL Technologies   \n",
       "1  16-Apr-22          5.0           4.0             3.0  HCL Technologies   \n",
       "2  20-Apr-22          4.0           2.0             2.0  HCL Technologies   \n",
       "3  09-Dec-21          4.0           1.0             1.0  HCL Technologies   \n",
       "4  04-Mar-22          4.0           1.0             1.0  HCL Technologies   \n",
       "\n",
       "             jobFunction  overallScore file  \n",
       "0           Hr Executive           1.0  hcl  \n",
       "1         Technical Lead           4.0  hcl  \n",
       "2      Senior Specialist           3.0  hcl  \n",
       "3  Senior Technical Lead           1.0  hcl  \n",
       "4      Software Engineer           1.0  hcl  "
      ]
     },
     "execution_count": 5,
     "metadata": {},
     "output_type": "execute_result"
    }
   ],
   "source": [
    "data = pd.read_csv(r'C:\\Users\\bhava\\OneDrive\\Documents\\AMPBA\\Capstone\\Reviews\\Raw Files\\combinedReviews.csv')\n",
    "data.head()"
   ]
  },
  {
   "cell_type": "code",
   "execution_count": 6,
   "id": "4657ce68",
   "metadata": {},
   "outputs": [],
   "source": [
    "data=data.reset_index()"
   ]
  },
  {
   "cell_type": "code",
   "execution_count": 7,
   "id": "c57299be",
   "metadata": {},
   "outputs": [],
   "source": [
    "def index_reset(df):\n",
    "    df_reset=df.reset_index(drop=False)# for factor analysis to have a similar sl no of the data\n",
    "    return(df_reset)"
   ]
  },
  {
   "cell_type": "code",
   "execution_count": 8,
   "id": "d3f1026b",
   "metadata": {
    "execution": {
     "iopub.execute_input": "2022-07-11T18:48:36.040695Z",
     "iopub.status.busy": "2022-07-11T18:48:36.040048Z",
     "iopub.status.idle": "2022-07-11T18:48:38.279979Z",
     "shell.execute_reply": "2022-07-11T18:48:38.278505Z"
    },
    "papermill": {
     "duration": 2.255751,
     "end_time": "2022-07-11T18:48:38.283675",
     "exception": false,
     "start_time": "2022-07-11T18:48:36.027924",
     "status": "completed"
    },
    "tags": []
   },
   "outputs": [
    {
     "name": "stderr",
     "output_type": "stream",
     "text": [
      "[nltk_data] Downloading package stopwords to\n",
      "[nltk_data]     C:\\Users\\bhava\\AppData\\Roaming\\nltk_data...\n",
      "[nltk_data]   Package stopwords is already up-to-date!\n"
     ]
    }
   ],
   "source": [
    "import nltk\n",
    "nltk.download('stopwords')\n",
    "from nltk.corpus import stopwords"
   ]
  },
  {
   "cell_type": "code",
   "execution_count": 9,
   "id": "bebd830b",
   "metadata": {
    "execution": {
     "iopub.execute_input": "2022-07-11T18:48:38.306903Z",
     "iopub.status.busy": "2022-07-11T18:48:38.306290Z",
     "iopub.status.idle": "2022-07-11T18:48:38.342871Z",
     "shell.execute_reply": "2022-07-11T18:48:38.341562Z"
    },
    "papermill": {
     "duration": 0.051542,
     "end_time": "2022-07-11T18:48:38.345987",
     "exception": false,
     "start_time": "2022-07-11T18:48:38.294445",
     "status": "completed"
    },
    "tags": []
   },
   "outputs": [
    {
     "name": "stderr",
     "output_type": "stream",
     "text": [
      "[nltk_data] Downloading package vader_lexicon to\n",
      "[nltk_data]     C:\\Users\\bhava\\AppData\\Roaming\\nltk_data...\n",
      "[nltk_data]   Package vader_lexicon is already up-to-date!\n"
     ]
    }
   ],
   "source": [
    "nltk.download('vader_lexicon')\n",
    "from nltk.sentiment.vader import SentimentIntensityAnalyzer\n",
    "sid = SentimentIntensityAnalyzer()"
   ]
  },
  {
   "cell_type": "code",
   "execution_count": 10,
   "id": "7cbb9b30",
   "metadata": {
    "execution": {
     "iopub.execute_input": "2022-07-11T18:48:38.369108Z",
     "iopub.status.busy": "2022-07-11T18:48:38.368664Z",
     "iopub.status.idle": "2022-07-11T18:48:38.388431Z",
     "shell.execute_reply": "2022-07-11T18:48:38.387249Z"
    },
    "papermill": {
     "duration": 0.034261,
     "end_time": "2022-07-11T18:48:38.390944",
     "exception": false,
     "start_time": "2022-07-11T18:48:38.356683",
     "status": "completed"
    },
    "tags": []
   },
   "outputs": [],
   "source": [
    "# Extracting the desired variables for analysis\n",
    "reviews = data[['company','overallScore','reviewText','cons','pros']]"
   ]
  },
  {
   "cell_type": "markdown",
   "id": "43d6799f",
   "metadata": {
    "papermill": {
     "duration": 0.009667,
     "end_time": "2022-07-11T18:48:38.532182",
     "exception": false,
     "start_time": "2022-07-11T18:48:38.522515",
     "status": "completed"
    },
    "tags": []
   },
   "source": [
    "## Selecting the numerical features"
   ]
  },
  {
   "cell_type": "code",
   "execution_count": 11,
   "id": "8f42f026",
   "metadata": {
    "execution": {
     "iopub.execute_input": "2022-07-11T18:48:38.557304Z",
     "iopub.status.busy": "2022-07-11T18:48:38.556505Z",
     "iopub.status.idle": "2022-07-11T18:48:38.562573Z",
     "shell.execute_reply": "2022-07-11T18:48:38.561345Z"
    },
    "papermill": {
     "duration": 0.022746,
     "end_time": "2022-07-11T18:48:38.565284",
     "exception": false,
     "start_time": "2022-07-11T18:48:38.542538",
     "status": "completed"
    },
    "tags": []
   },
   "outputs": [],
   "source": [
    "def selection(data):\n",
    "    df=data[['skillDevelopment', 'salaryBenefits',\n",
    "       'workLifeBalance',  'workSatisfaction', \n",
    "       'jobSecurity', 'careerGrowth', 'companyCulture']]\n",
    "\n",
    "    df=df.dropna()\n",
    "    return(df)\n",
    "    "
   ]
  },
  {
   "cell_type": "code",
   "execution_count": 12,
   "id": "08975a34",
   "metadata": {
    "execution": {
     "iopub.execute_input": "2022-07-11T18:48:38.587984Z",
     "iopub.status.busy": "2022-07-11T18:48:38.587318Z",
     "iopub.status.idle": "2022-07-11T18:48:38.621597Z",
     "shell.execute_reply": "2022-07-11T18:48:38.620299Z"
    },
    "papermill": {
     "duration": 0.049048,
     "end_time": "2022-07-11T18:48:38.624252",
     "exception": false,
     "start_time": "2022-07-11T18:48:38.575204",
     "status": "completed"
    },
    "tags": []
   },
   "outputs": [
    {
     "data": {
      "text/html": [
       "<div>\n",
       "<style scoped>\n",
       "    .dataframe tbody tr th:only-of-type {\n",
       "        vertical-align: middle;\n",
       "    }\n",
       "\n",
       "    .dataframe tbody tr th {\n",
       "        vertical-align: top;\n",
       "    }\n",
       "\n",
       "    .dataframe thead th {\n",
       "        text-align: right;\n",
       "    }\n",
       "</style>\n",
       "<table border=\"1\" class=\"dataframe\">\n",
       "  <thead>\n",
       "    <tr style=\"text-align: right;\">\n",
       "      <th></th>\n",
       "      <th>skillDevelopment</th>\n",
       "      <th>salaryBenefits</th>\n",
       "      <th>workLifeBalance</th>\n",
       "      <th>workSatisfaction</th>\n",
       "      <th>jobSecurity</th>\n",
       "      <th>careerGrowth</th>\n",
       "      <th>companyCulture</th>\n",
       "    </tr>\n",
       "  </thead>\n",
       "  <tbody>\n",
       "    <tr>\n",
       "      <th>0</th>\n",
       "      <td>1.0</td>\n",
       "      <td>1.0</td>\n",
       "      <td>3.0</td>\n",
       "      <td>3.0</td>\n",
       "      <td>4.0</td>\n",
       "      <td>1.0</td>\n",
       "      <td>4.0</td>\n",
       "    </tr>\n",
       "    <tr>\n",
       "      <th>1</th>\n",
       "      <td>4.0</td>\n",
       "      <td>2.0</td>\n",
       "      <td>5.0</td>\n",
       "      <td>4.0</td>\n",
       "      <td>5.0</td>\n",
       "      <td>4.0</td>\n",
       "      <td>3.0</td>\n",
       "    </tr>\n",
       "    <tr>\n",
       "      <th>2</th>\n",
       "      <td>3.0</td>\n",
       "      <td>2.0</td>\n",
       "      <td>3.0</td>\n",
       "      <td>1.0</td>\n",
       "      <td>4.0</td>\n",
       "      <td>2.0</td>\n",
       "      <td>2.0</td>\n",
       "    </tr>\n",
       "    <tr>\n",
       "      <th>3</th>\n",
       "      <td>1.0</td>\n",
       "      <td>1.0</td>\n",
       "      <td>2.0</td>\n",
       "      <td>1.0</td>\n",
       "      <td>4.0</td>\n",
       "      <td>1.0</td>\n",
       "      <td>1.0</td>\n",
       "    </tr>\n",
       "    <tr>\n",
       "      <th>4</th>\n",
       "      <td>1.0</td>\n",
       "      <td>4.0</td>\n",
       "      <td>1.0</td>\n",
       "      <td>1.0</td>\n",
       "      <td>4.0</td>\n",
       "      <td>1.0</td>\n",
       "      <td>1.0</td>\n",
       "    </tr>\n",
       "  </tbody>\n",
       "</table>\n",
       "</div>"
      ],
      "text/plain": [
       "   skillDevelopment  salaryBenefits  workLifeBalance  workSatisfaction  \\\n",
       "0               1.0             1.0              3.0               3.0   \n",
       "1               4.0             2.0              5.0               4.0   \n",
       "2               3.0             2.0              3.0               1.0   \n",
       "3               1.0             1.0              2.0               1.0   \n",
       "4               1.0             4.0              1.0               1.0   \n",
       "\n",
       "   jobSecurity  careerGrowth  companyCulture  \n",
       "0          4.0           1.0             4.0  \n",
       "1          5.0           4.0             3.0  \n",
       "2          4.0           2.0             2.0  \n",
       "3          4.0           1.0             1.0  \n",
       "4          4.0           1.0             1.0  "
      ]
     },
     "execution_count": 12,
     "metadata": {},
     "output_type": "execute_result"
    }
   ],
   "source": [
    "df=selection(data)\n",
    "df.head()"
   ]
  },
  {
   "cell_type": "markdown",
   "id": "7478f1f4",
   "metadata": {
    "papermill": {
     "duration": 0.009892,
     "end_time": "2022-07-11T18:48:38.644466",
     "exception": false,
     "start_time": "2022-07-11T18:48:38.634574",
     "status": "completed"
    },
    "tags": []
   },
   "source": [
    "## Factor analysis"
   ]
  },
  {
   "cell_type": "code",
   "execution_count": 13,
   "id": "fb8bbfb1",
   "metadata": {
    "execution": {
     "iopub.execute_input": "2022-07-11T18:48:38.667264Z",
     "iopub.status.busy": "2022-07-11T18:48:38.666834Z",
     "iopub.status.idle": "2022-07-11T18:48:55.956966Z",
     "shell.execute_reply": "2022-07-11T18:48:55.955156Z"
    },
    "papermill": {
     "duration": 17.306466,
     "end_time": "2022-07-11T18:48:55.961190",
     "exception": false,
     "start_time": "2022-07-11T18:48:38.654724",
     "status": "completed"
    },
    "tags": []
   },
   "outputs": [
    {
     "name": "stdout",
     "output_type": "stream",
     "text": [
      "Requirement already satisfied: factor_analyzer in c:\\users\\bhava\\anaconda3\\lib\\site-packages (0.4.0)\n",
      "Requirement already satisfied: pandas in c:\\users\\bhava\\anaconda3\\lib\\site-packages (from factor_analyzer) (1.4.2)\n",
      "Requirement already satisfied: scipy in c:\\users\\bhava\\anaconda3\\lib\\site-packages (from factor_analyzer) (1.5.0)\n",
      "Requirement already satisfied: scikit-learn in c:\\users\\bhava\\anaconda3\\lib\\site-packages (from factor_analyzer) (0.23.1)\n",
      "Requirement already satisfied: numpy in c:\\users\\bhava\\anaconda3\\lib\\site-packages (from factor_analyzer) (1.22.4)\n",
      "Requirement already satisfied: pytz>=2020.1 in c:\\users\\bhava\\anaconda3\\lib\\site-packages (from pandas->factor_analyzer) (2020.1)\n",
      "Requirement already satisfied: python-dateutil>=2.8.1 in c:\\users\\bhava\\anaconda3\\lib\\site-packages (from pandas->factor_analyzer) (2.8.1)\n",
      "Requirement already satisfied: threadpoolctl>=2.0.0 in c:\\users\\bhava\\anaconda3\\lib\\site-packages (from scikit-learn->factor_analyzer) (2.1.0)\n",
      "Requirement already satisfied: joblib>=0.11 in c:\\users\\bhava\\anaconda3\\lib\\site-packages (from scikit-learn->factor_analyzer) (0.16.0)\n",
      "Requirement already satisfied: six>=1.5 in c:\\users\\bhava\\anaconda3\\lib\\site-packages (from python-dateutil>=2.8.1->pandas->factor_analyzer) (1.15.0)\n"
     ]
    }
   ],
   "source": [
    "!pip install factor_analyzer\n",
    "from factor_analyzer.factor_analyzer import calculate_bartlett_sphericity,calculate_kmo\n",
    "from factor_analyzer import FactorAnalyzer"
   ]
  },
  {
   "cell_type": "code",
   "execution_count": 14,
   "id": "e42494d3",
   "metadata": {
    "execution": {
     "iopub.execute_input": "2022-07-11T18:48:56.035536Z",
     "iopub.status.busy": "2022-07-11T18:48:56.034906Z",
     "iopub.status.idle": "2022-07-11T18:48:56.044790Z",
     "shell.execute_reply": "2022-07-11T18:48:56.043346Z"
    },
    "papermill": {
     "duration": 0.030442,
     "end_time": "2022-07-11T18:48:56.048213",
     "exception": false,
     "start_time": "2022-07-11T18:48:56.017771",
     "status": "completed"
    },
    "tags": []
   },
   "outputs": [],
   "source": [
    "df_reset=index_reset(df)\n",
    "#df_reset=df.copy()"
   ]
  },
  {
   "cell_type": "code",
   "execution_count": 15,
   "id": "c4d2de86",
   "metadata": {
    "execution": {
     "iopub.execute_input": "2022-07-11T18:48:56.074163Z",
     "iopub.status.busy": "2022-07-11T18:48:56.072707Z",
     "iopub.status.idle": "2022-07-11T18:48:56.079613Z",
     "shell.execute_reply": "2022-07-11T18:48:56.078629Z"
    },
    "papermill": {
     "duration": 0.022149,
     "end_time": "2022-07-11T18:48:56.082000",
     "exception": false,
     "start_time": "2022-07-11T18:48:56.059851",
     "status": "completed"
    },
    "tags": []
   },
   "outputs": [],
   "source": [
    "def factor(df_reset):\n",
    "    fa = FactorAnalyzer(n_factors=3,rotation='oblimin')\n",
    "    fa.fit(df_reset)\n",
    "    df_factor_scores=pd.DataFrame(fa.transform(df_reset))\n",
    "    df_reset[['exhaustion','Depersonalization','PersonalAccomplishment']]=df_factor_scores\n",
    "    fa_data=df_reset\n",
    "    return(fa_data)"
   ]
  },
  {
   "cell_type": "code",
   "execution_count": 16,
   "id": "000bdbe5",
   "metadata": {
    "execution": {
     "iopub.execute_input": "2022-07-11T18:48:56.107202Z",
     "iopub.status.busy": "2022-07-11T18:48:56.106452Z",
     "iopub.status.idle": "2022-07-11T18:48:56.370500Z",
     "shell.execute_reply": "2022-07-11T18:48:56.369054Z"
    },
    "papermill": {
     "duration": 0.281276,
     "end_time": "2022-07-11T18:48:56.375037",
     "exception": false,
     "start_time": "2022-07-11T18:48:56.093761",
     "status": "completed"
    },
    "tags": []
   },
   "outputs": [],
   "source": [
    "final_df=factor(df_reset)"
   ]
  },
  {
   "cell_type": "code",
   "execution_count": 17,
   "id": "3ec02310",
   "metadata": {
    "execution": {
     "iopub.execute_input": "2022-07-11T18:48:56.420285Z",
     "iopub.status.busy": "2022-07-11T18:48:56.419640Z",
     "iopub.status.idle": "2022-07-11T18:48:56.476097Z",
     "shell.execute_reply": "2022-07-11T18:48:56.474647Z"
    },
    "papermill": {
     "duration": 0.082643,
     "end_time": "2022-07-11T18:48:56.478820",
     "exception": false,
     "start_time": "2022-07-11T18:48:56.396177",
     "status": "completed"
    },
    "tags": []
   },
   "outputs": [
    {
     "data": {
      "text/html": [
       "<div>\n",
       "<style scoped>\n",
       "    .dataframe tbody tr th:only-of-type {\n",
       "        vertical-align: middle;\n",
       "    }\n",
       "\n",
       "    .dataframe tbody tr th {\n",
       "        vertical-align: top;\n",
       "    }\n",
       "\n",
       "    .dataframe thead th {\n",
       "        text-align: right;\n",
       "    }\n",
       "</style>\n",
       "<table border=\"1\" class=\"dataframe\">\n",
       "  <thead>\n",
       "    <tr style=\"text-align: right;\">\n",
       "      <th></th>\n",
       "      <th>index</th>\n",
       "      <th>skillDevelopment</th>\n",
       "      <th>salaryBenefits</th>\n",
       "      <th>workLifeBalance</th>\n",
       "      <th>workSatisfaction</th>\n",
       "      <th>jobSecurity</th>\n",
       "      <th>careerGrowth</th>\n",
       "      <th>companyCulture</th>\n",
       "      <th>exhaustion</th>\n",
       "      <th>Depersonalization</th>\n",
       "      <th>PersonalAccomplishment</th>\n",
       "    </tr>\n",
       "  </thead>\n",
       "  <tbody>\n",
       "    <tr>\n",
       "      <th>0</th>\n",
       "      <td>0</td>\n",
       "      <td>1.0</td>\n",
       "      <td>1.0</td>\n",
       "      <td>3.0</td>\n",
       "      <td>3.0</td>\n",
       "      <td>4.0</td>\n",
       "      <td>1.0</td>\n",
       "      <td>4.0</td>\n",
       "      <td>-1.324421</td>\n",
       "      <td>-0.505241</td>\n",
       "      <td>-1.554899</td>\n",
       "    </tr>\n",
       "    <tr>\n",
       "      <th>1</th>\n",
       "      <td>1</td>\n",
       "      <td>4.0</td>\n",
       "      <td>2.0</td>\n",
       "      <td>5.0</td>\n",
       "      <td>4.0</td>\n",
       "      <td>5.0</td>\n",
       "      <td>4.0</td>\n",
       "      <td>3.0</td>\n",
       "      <td>0.181301</td>\n",
       "      <td>0.346007</td>\n",
       "      <td>-0.825013</td>\n",
       "    </tr>\n",
       "    <tr>\n",
       "      <th>2</th>\n",
       "      <td>2</td>\n",
       "      <td>3.0</td>\n",
       "      <td>2.0</td>\n",
       "      <td>3.0</td>\n",
       "      <td>1.0</td>\n",
       "      <td>4.0</td>\n",
       "      <td>2.0</td>\n",
       "      <td>2.0</td>\n",
       "      <td>-1.320864</td>\n",
       "      <td>-1.101628</td>\n",
       "      <td>-0.827405</td>\n",
       "    </tr>\n",
       "    <tr>\n",
       "      <th>3</th>\n",
       "      <td>3</td>\n",
       "      <td>1.0</td>\n",
       "      <td>1.0</td>\n",
       "      <td>2.0</td>\n",
       "      <td>1.0</td>\n",
       "      <td>4.0</td>\n",
       "      <td>1.0</td>\n",
       "      <td>1.0</td>\n",
       "      <td>-2.050294</td>\n",
       "      <td>-1.772570</td>\n",
       "      <td>-1.557231</td>\n",
       "    </tr>\n",
       "    <tr>\n",
       "      <th>4</th>\n",
       "      <td>4</td>\n",
       "      <td>1.0</td>\n",
       "      <td>4.0</td>\n",
       "      <td>1.0</td>\n",
       "      <td>1.0</td>\n",
       "      <td>4.0</td>\n",
       "      <td>1.0</td>\n",
       "      <td>1.0</td>\n",
       "      <td>-1.859811</td>\n",
       "      <td>-2.083037</td>\n",
       "      <td>0.677617</td>\n",
       "    </tr>\n",
       "    <tr>\n",
       "      <th>...</th>\n",
       "      <td>...</td>\n",
       "      <td>...</td>\n",
       "      <td>...</td>\n",
       "      <td>...</td>\n",
       "      <td>...</td>\n",
       "      <td>...</td>\n",
       "      <td>...</td>\n",
       "      <td>...</td>\n",
       "      <td>...</td>\n",
       "      <td>...</td>\n",
       "      <td>...</td>\n",
       "    </tr>\n",
       "    <tr>\n",
       "      <th>96245</th>\n",
       "      <td>97092</td>\n",
       "      <td>4.0</td>\n",
       "      <td>3.0</td>\n",
       "      <td>5.0</td>\n",
       "      <td>4.0</td>\n",
       "      <td>5.0</td>\n",
       "      <td>3.0</td>\n",
       "      <td>4.0</td>\n",
       "      <td>0.077751</td>\n",
       "      <td>0.495958</td>\n",
       "      <td>-0.077544</td>\n",
       "    </tr>\n",
       "    <tr>\n",
       "      <th>96246</th>\n",
       "      <td>97093</td>\n",
       "      <td>4.0</td>\n",
       "      <td>3.0</td>\n",
       "      <td>4.0</td>\n",
       "      <td>4.0</td>\n",
       "      <td>5.0</td>\n",
       "      <td>4.0</td>\n",
       "      <td>4.0</td>\n",
       "      <td>0.328279</td>\n",
       "      <td>0.296395</td>\n",
       "      <td>-0.088594</td>\n",
       "    </tr>\n",
       "    <tr>\n",
       "      <th>96247</th>\n",
       "      <td>97094</td>\n",
       "      <td>3.0</td>\n",
       "      <td>1.0</td>\n",
       "      <td>2.0</td>\n",
       "      <td>3.0</td>\n",
       "      <td>2.0</td>\n",
       "      <td>1.0</td>\n",
       "      <td>3.0</td>\n",
       "      <td>-1.233510</td>\n",
       "      <td>-1.191298</td>\n",
       "      <td>-1.534109</td>\n",
       "    </tr>\n",
       "    <tr>\n",
       "      <th>96248</th>\n",
       "      <td>97095</td>\n",
       "      <td>4.0</td>\n",
       "      <td>3.0</td>\n",
       "      <td>3.0</td>\n",
       "      <td>4.0</td>\n",
       "      <td>4.0</td>\n",
       "      <td>4.0</td>\n",
       "      <td>4.0</td>\n",
       "      <td>0.270762</td>\n",
       "      <td>-0.099365</td>\n",
       "      <td>-0.084428</td>\n",
       "    </tr>\n",
       "    <tr>\n",
       "      <th>96249</th>\n",
       "      <td>97096</td>\n",
       "      <td>4.0</td>\n",
       "      <td>3.0</td>\n",
       "      <td>4.0</td>\n",
       "      <td>4.0</td>\n",
       "      <td>5.0</td>\n",
       "      <td>4.0</td>\n",
       "      <td>4.0</td>\n",
       "      <td>0.328279</td>\n",
       "      <td>0.296394</td>\n",
       "      <td>-0.088594</td>\n",
       "    </tr>\n",
       "  </tbody>\n",
       "</table>\n",
       "<p>96250 rows × 11 columns</p>\n",
       "</div>"
      ],
      "text/plain": [
       "       index  skillDevelopment  salaryBenefits  workLifeBalance  \\\n",
       "0          0               1.0             1.0              3.0   \n",
       "1          1               4.0             2.0              5.0   \n",
       "2          2               3.0             2.0              3.0   \n",
       "3          3               1.0             1.0              2.0   \n",
       "4          4               1.0             4.0              1.0   \n",
       "...      ...               ...             ...              ...   \n",
       "96245  97092               4.0             3.0              5.0   \n",
       "96246  97093               4.0             3.0              4.0   \n",
       "96247  97094               3.0             1.0              2.0   \n",
       "96248  97095               4.0             3.0              3.0   \n",
       "96249  97096               4.0             3.0              4.0   \n",
       "\n",
       "       workSatisfaction  jobSecurity  careerGrowth  companyCulture  \\\n",
       "0                   3.0          4.0           1.0             4.0   \n",
       "1                   4.0          5.0           4.0             3.0   \n",
       "2                   1.0          4.0           2.0             2.0   \n",
       "3                   1.0          4.0           1.0             1.0   \n",
       "4                   1.0          4.0           1.0             1.0   \n",
       "...                 ...          ...           ...             ...   \n",
       "96245               4.0          5.0           3.0             4.0   \n",
       "96246               4.0          5.0           4.0             4.0   \n",
       "96247               3.0          2.0           1.0             3.0   \n",
       "96248               4.0          4.0           4.0             4.0   \n",
       "96249               4.0          5.0           4.0             4.0   \n",
       "\n",
       "       exhaustion  Depersonalization  PersonalAccomplishment  \n",
       "0       -1.324421          -0.505241               -1.554899  \n",
       "1        0.181301           0.346007               -0.825013  \n",
       "2       -1.320864          -1.101628               -0.827405  \n",
       "3       -2.050294          -1.772570               -1.557231  \n",
       "4       -1.859811          -2.083037                0.677617  \n",
       "...           ...                ...                     ...  \n",
       "96245    0.077751           0.495958               -0.077544  \n",
       "96246    0.328279           0.296395               -0.088594  \n",
       "96247   -1.233510          -1.191298               -1.534109  \n",
       "96248    0.270762          -0.099365               -0.084428  \n",
       "96249    0.328279           0.296394               -0.088594  \n",
       "\n",
       "[96250 rows x 11 columns]"
      ]
     },
     "execution_count": 17,
     "metadata": {},
     "output_type": "execute_result"
    }
   ],
   "source": [
    "final_df"
   ]
  },
  {
   "cell_type": "markdown",
   "id": "f118dc45",
   "metadata": {
    "papermill": {
     "duration": 0.011583,
     "end_time": "2022-07-11T18:48:56.525833",
     "exception": false,
     "start_time": "2022-07-11T18:48:56.514250",
     "status": "completed"
    },
    "tags": []
   },
   "source": [
    "## scaling the data frame for cluster analysis post the factor analysis"
   ]
  },
  {
   "cell_type": "code",
   "execution_count": 18,
   "id": "a7f0d474",
   "metadata": {
    "execution": {
     "iopub.execute_input": "2022-07-11T18:48:56.552122Z",
     "iopub.status.busy": "2022-07-11T18:48:56.551475Z",
     "iopub.status.idle": "2022-07-11T18:48:56.574960Z",
     "shell.execute_reply": "2022-07-11T18:48:56.573753Z"
    },
    "papermill": {
     "duration": 0.040139,
     "end_time": "2022-07-11T18:48:56.578030",
     "exception": false,
     "start_time": "2022-07-11T18:48:56.537891",
     "status": "completed"
    },
    "tags": []
   },
   "outputs": [
    {
     "data": {
      "text/html": [
       "<div>\n",
       "<style scoped>\n",
       "    .dataframe tbody tr th:only-of-type {\n",
       "        vertical-align: middle;\n",
       "    }\n",
       "\n",
       "    .dataframe tbody tr th {\n",
       "        vertical-align: top;\n",
       "    }\n",
       "\n",
       "    .dataframe thead th {\n",
       "        text-align: right;\n",
       "    }\n",
       "</style>\n",
       "<table border=\"1\" class=\"dataframe\">\n",
       "  <thead>\n",
       "    <tr style=\"text-align: right;\">\n",
       "      <th></th>\n",
       "      <th>exhaustion</th>\n",
       "      <th>PersonalAccomplishment</th>\n",
       "      <th>Depersonalization</th>\n",
       "    </tr>\n",
       "  </thead>\n",
       "  <tbody>\n",
       "    <tr>\n",
       "      <th>0</th>\n",
       "      <td>-1.324421</td>\n",
       "      <td>-1.554899</td>\n",
       "      <td>-0.505241</td>\n",
       "    </tr>\n",
       "    <tr>\n",
       "      <th>1</th>\n",
       "      <td>0.181301</td>\n",
       "      <td>-0.825013</td>\n",
       "      <td>0.346007</td>\n",
       "    </tr>\n",
       "    <tr>\n",
       "      <th>2</th>\n",
       "      <td>-1.320864</td>\n",
       "      <td>-0.827405</td>\n",
       "      <td>-1.101628</td>\n",
       "    </tr>\n",
       "    <tr>\n",
       "      <th>3</th>\n",
       "      <td>-2.050294</td>\n",
       "      <td>-1.557231</td>\n",
       "      <td>-1.772570</td>\n",
       "    </tr>\n",
       "    <tr>\n",
       "      <th>4</th>\n",
       "      <td>-1.859811</td>\n",
       "      <td>0.677617</td>\n",
       "      <td>-2.083037</td>\n",
       "    </tr>\n",
       "    <tr>\n",
       "      <th>...</th>\n",
       "      <td>...</td>\n",
       "      <td>...</td>\n",
       "      <td>...</td>\n",
       "    </tr>\n",
       "    <tr>\n",
       "      <th>96245</th>\n",
       "      <td>0.077751</td>\n",
       "      <td>-0.077544</td>\n",
       "      <td>0.495958</td>\n",
       "    </tr>\n",
       "    <tr>\n",
       "      <th>96246</th>\n",
       "      <td>0.328279</td>\n",
       "      <td>-0.088594</td>\n",
       "      <td>0.296395</td>\n",
       "    </tr>\n",
       "    <tr>\n",
       "      <th>96247</th>\n",
       "      <td>-1.233510</td>\n",
       "      <td>-1.534109</td>\n",
       "      <td>-1.191298</td>\n",
       "    </tr>\n",
       "    <tr>\n",
       "      <th>96248</th>\n",
       "      <td>0.270762</td>\n",
       "      <td>-0.084428</td>\n",
       "      <td>-0.099365</td>\n",
       "    </tr>\n",
       "    <tr>\n",
       "      <th>96249</th>\n",
       "      <td>0.328279</td>\n",
       "      <td>-0.088594</td>\n",
       "      <td>0.296394</td>\n",
       "    </tr>\n",
       "  </tbody>\n",
       "</table>\n",
       "<p>96250 rows × 3 columns</p>\n",
       "</div>"
      ],
      "text/plain": [
       "       exhaustion  PersonalAccomplishment  Depersonalization\n",
       "0       -1.324421               -1.554899          -0.505241\n",
       "1        0.181301               -0.825013           0.346007\n",
       "2       -1.320864               -0.827405          -1.101628\n",
       "3       -2.050294               -1.557231          -1.772570\n",
       "4       -1.859811                0.677617          -2.083037\n",
       "...           ...                     ...                ...\n",
       "96245    0.077751               -0.077544           0.495958\n",
       "96246    0.328279               -0.088594           0.296395\n",
       "96247   -1.233510               -1.534109          -1.191298\n",
       "96248    0.270762               -0.084428          -0.099365\n",
       "96249    0.328279               -0.088594           0.296394\n",
       "\n",
       "[96250 rows x 3 columns]"
      ]
     },
     "execution_count": 18,
     "metadata": {},
     "output_type": "execute_result"
    }
   ],
   "source": [
    "factor_df=final_df[['exhaustion','PersonalAccomplishment','Depersonalization']]## selecting the two factors ofr clustering\n",
    "factor_df"
   ]
  },
  {
   "cell_type": "code",
   "execution_count": 19,
   "id": "d099bd12",
   "metadata": {
    "execution": {
     "iopub.execute_input": "2022-07-11T18:48:56.606893Z",
     "iopub.status.busy": "2022-07-11T18:48:56.606237Z",
     "iopub.status.idle": "2022-07-11T18:48:56.617548Z",
     "shell.execute_reply": "2022-07-11T18:48:56.615819Z"
    },
    "papermill": {
     "duration": 0.029929,
     "end_time": "2022-07-11T18:48:56.620967",
     "exception": false,
     "start_time": "2022-07-11T18:48:56.591038",
     "status": "completed"
    },
    "tags": []
   },
   "outputs": [
    {
     "data": {
      "text/plain": [
       "exhaustion               -2.161190\n",
       "PersonalAccomplishment   -1.657992\n",
       "Depersonalization        -2.615264\n",
       "dtype: float64"
      ]
     },
     "execution_count": 19,
     "metadata": {},
     "output_type": "execute_result"
    }
   ],
   "source": [
    "factor_df.min()"
   ]
  },
  {
   "cell_type": "code",
   "execution_count": 20,
   "id": "95bc90b9",
   "metadata": {
    "execution": {
     "iopub.execute_input": "2022-07-11T18:48:56.648792Z",
     "iopub.status.busy": "2022-07-11T18:48:56.648045Z",
     "iopub.status.idle": "2022-07-11T18:48:56.654140Z",
     "shell.execute_reply": "2022-07-11T18:48:56.653202Z"
    },
    "papermill": {
     "duration": 0.023384,
     "end_time": "2022-07-11T18:48:56.656940",
     "exception": false,
     "start_time": "2022-07-11T18:48:56.633556",
     "status": "completed"
    },
    "tags": []
   },
   "outputs": [],
   "source": [
    "from sklearn.preprocessing import normalize\n",
    "\n",
    "def scale(df):\n",
    "    data_scaled = normalize(df)\n",
    "    data_scaled = pd.DataFrame(data_scaled, columns=df.columns)\n",
    "    return(data_scaled)"
   ]
  },
  {
   "cell_type": "code",
   "execution_count": 21,
   "id": "47e2f74d",
   "metadata": {
    "execution": {
     "iopub.execute_input": "2022-07-11T18:48:56.684778Z",
     "iopub.status.busy": "2022-07-11T18:48:56.684135Z",
     "iopub.status.idle": "2022-07-11T18:48:56.693246Z",
     "shell.execute_reply": "2022-07-11T18:48:56.692294Z"
    },
    "papermill": {
     "duration": 0.026609,
     "end_time": "2022-07-11T18:48:56.695867",
     "exception": false,
     "start_time": "2022-07-11T18:48:56.669258",
     "status": "completed"
    },
    "tags": []
   },
   "outputs": [],
   "source": [
    "factor_df_scaled=scale(factor_df)"
   ]
  },
  {
   "cell_type": "markdown",
   "id": "5e767dfb",
   "metadata": {
    "papermill": {
     "duration": 0.011852,
     "end_time": "2022-07-11T18:48:56.720439",
     "exception": false,
     "start_time": "2022-07-11T18:48:56.708587",
     "status": "completed"
    },
    "tags": []
   },
   "source": [
    "## clustering the data"
   ]
  },
  {
   "cell_type": "code",
   "execution_count": 22,
   "id": "82ec4b98",
   "metadata": {
    "execution": {
     "iopub.execute_input": "2022-07-11T18:48:56.747226Z",
     "iopub.status.busy": "2022-07-11T18:48:56.746057Z",
     "iopub.status.idle": "2022-07-11T18:48:56.901127Z",
     "shell.execute_reply": "2022-07-11T18:48:56.899772Z"
    },
    "papermill": {
     "duration": 0.171187,
     "end_time": "2022-07-11T18:48:56.903911",
     "exception": false,
     "start_time": "2022-07-11T18:48:56.732724",
     "status": "completed"
    },
    "tags": []
   },
   "outputs": [],
   "source": [
    "from sklearn.cluster import KMeans\n"
   ]
  },
  {
   "cell_type": "code",
   "execution_count": 23,
   "id": "7745dbdd",
   "metadata": {
    "execution": {
     "iopub.execute_input": "2022-07-11T18:48:56.930309Z",
     "iopub.status.busy": "2022-07-11T18:48:56.929898Z",
     "iopub.status.idle": "2022-07-11T18:48:56.936023Z",
     "shell.execute_reply": "2022-07-11T18:48:56.935184Z"
    },
    "papermill": {
     "duration": 0.021839,
     "end_time": "2022-07-11T18:48:56.938112",
     "exception": false,
     "start_time": "2022-07-11T18:48:56.916273",
     "status": "completed"
    },
    "tags": []
   },
   "outputs": [],
   "source": [
    "def cluster(factor_df_scaled):\n",
    "    kmeans = KMeans( init=\"k-means++\", n_clusters=5, n_init=10,   max_iter=300,random_state=42 )\n",
    "    kmeans.fit(factor_df_scaled)\n",
    "    kmeans.inertia_\n",
    "    kmeans.cluster_centers_\n",
    "    df_cluster=final_df\n",
    "    df_cluster['cluster'] = kmeans.labels_\n",
    "    return(df_cluster)"
   ]
  },
  {
   "cell_type": "code",
   "execution_count": 24,
   "id": "cd356504",
   "metadata": {
    "execution": {
     "iopub.execute_input": "2022-07-11T18:48:56.965189Z",
     "iopub.status.busy": "2022-07-11T18:48:56.964452Z",
     "iopub.status.idle": "2022-07-11T18:48:58.650967Z",
     "shell.execute_reply": "2022-07-11T18:48:58.649761Z"
    },
    "papermill": {
     "duration": 1.70332,
     "end_time": "2022-07-11T18:48:58.653878",
     "exception": false,
     "start_time": "2022-07-11T18:48:56.950558",
     "status": "completed"
    },
    "tags": []
   },
   "outputs": [],
   "source": [
    "final_df_cluster=cluster(factor_df_scaled)"
   ]
  },
  {
   "cell_type": "code",
   "execution_count": 25,
   "id": "71430938",
   "metadata": {
    "execution": {
     "iopub.execute_input": "2022-07-11T18:48:58.682038Z",
     "iopub.status.busy": "2022-07-11T18:48:58.681621Z",
     "iopub.status.idle": "2022-07-11T18:48:58.703956Z",
     "shell.execute_reply": "2022-07-11T18:48:58.702673Z"
    },
    "papermill": {
     "duration": 0.039549,
     "end_time": "2022-07-11T18:48:58.706679",
     "exception": false,
     "start_time": "2022-07-11T18:48:58.667130",
     "status": "completed"
    },
    "tags": []
   },
   "outputs": [
    {
     "data": {
      "text/html": [
       "<div>\n",
       "<style scoped>\n",
       "    .dataframe tbody tr th:only-of-type {\n",
       "        vertical-align: middle;\n",
       "    }\n",
       "\n",
       "    .dataframe tbody tr th {\n",
       "        vertical-align: top;\n",
       "    }\n",
       "\n",
       "    .dataframe thead th {\n",
       "        text-align: right;\n",
       "    }\n",
       "</style>\n",
       "<table border=\"1\" class=\"dataframe\">\n",
       "  <thead>\n",
       "    <tr style=\"text-align: right;\">\n",
       "      <th></th>\n",
       "      <th>index</th>\n",
       "      <th>skillDevelopment</th>\n",
       "      <th>salaryBenefits</th>\n",
       "      <th>workLifeBalance</th>\n",
       "      <th>workSatisfaction</th>\n",
       "      <th>jobSecurity</th>\n",
       "      <th>careerGrowth</th>\n",
       "      <th>companyCulture</th>\n",
       "      <th>exhaustion</th>\n",
       "      <th>Depersonalization</th>\n",
       "      <th>PersonalAccomplishment</th>\n",
       "    </tr>\n",
       "    <tr>\n",
       "      <th>cluster</th>\n",
       "      <th></th>\n",
       "      <th></th>\n",
       "      <th></th>\n",
       "      <th></th>\n",
       "      <th></th>\n",
       "      <th></th>\n",
       "      <th></th>\n",
       "      <th></th>\n",
       "      <th></th>\n",
       "      <th></th>\n",
       "      <th></th>\n",
       "    </tr>\n",
       "  </thead>\n",
       "  <tbody>\n",
       "    <tr>\n",
       "      <th>0</th>\n",
       "      <td>28275</td>\n",
       "      <td>28275</td>\n",
       "      <td>28275</td>\n",
       "      <td>28275</td>\n",
       "      <td>28275</td>\n",
       "      <td>28275</td>\n",
       "      <td>28275</td>\n",
       "      <td>28275</td>\n",
       "      <td>28275</td>\n",
       "      <td>28275</td>\n",
       "      <td>28275</td>\n",
       "    </tr>\n",
       "    <tr>\n",
       "      <th>1</th>\n",
       "      <td>33428</td>\n",
       "      <td>33428</td>\n",
       "      <td>33428</td>\n",
       "      <td>33428</td>\n",
       "      <td>33428</td>\n",
       "      <td>33428</td>\n",
       "      <td>33428</td>\n",
       "      <td>33428</td>\n",
       "      <td>33428</td>\n",
       "      <td>33428</td>\n",
       "      <td>33428</td>\n",
       "    </tr>\n",
       "    <tr>\n",
       "      <th>2</th>\n",
       "      <td>16775</td>\n",
       "      <td>16775</td>\n",
       "      <td>16775</td>\n",
       "      <td>16775</td>\n",
       "      <td>16775</td>\n",
       "      <td>16775</td>\n",
       "      <td>16775</td>\n",
       "      <td>16775</td>\n",
       "      <td>16775</td>\n",
       "      <td>16775</td>\n",
       "      <td>16775</td>\n",
       "    </tr>\n",
       "    <tr>\n",
       "      <th>3</th>\n",
       "      <td>4877</td>\n",
       "      <td>4877</td>\n",
       "      <td>4877</td>\n",
       "      <td>4877</td>\n",
       "      <td>4877</td>\n",
       "      <td>4877</td>\n",
       "      <td>4877</td>\n",
       "      <td>4877</td>\n",
       "      <td>4877</td>\n",
       "      <td>4877</td>\n",
       "      <td>4877</td>\n",
       "    </tr>\n",
       "    <tr>\n",
       "      <th>4</th>\n",
       "      <td>12895</td>\n",
       "      <td>12895</td>\n",
       "      <td>12895</td>\n",
       "      <td>12895</td>\n",
       "      <td>12895</td>\n",
       "      <td>12895</td>\n",
       "      <td>12895</td>\n",
       "      <td>12895</td>\n",
       "      <td>12895</td>\n",
       "      <td>12895</td>\n",
       "      <td>12895</td>\n",
       "    </tr>\n",
       "  </tbody>\n",
       "</table>\n",
       "</div>"
      ],
      "text/plain": [
       "         index  skillDevelopment  salaryBenefits  workLifeBalance  \\\n",
       "cluster                                                             \n",
       "0        28275             28275           28275            28275   \n",
       "1        33428             33428           33428            33428   \n",
       "2        16775             16775           16775            16775   \n",
       "3         4877              4877            4877             4877   \n",
       "4        12895             12895           12895            12895   \n",
       "\n",
       "         workSatisfaction  jobSecurity  careerGrowth  companyCulture  \\\n",
       "cluster                                                                \n",
       "0                   28275        28275         28275           28275   \n",
       "1                   33428        33428         33428           33428   \n",
       "2                   16775        16775         16775           16775   \n",
       "3                    4877         4877          4877            4877   \n",
       "4                   12895        12895         12895           12895   \n",
       "\n",
       "         exhaustion  Depersonalization  PersonalAccomplishment  \n",
       "cluster                                                         \n",
       "0             28275              28275                   28275  \n",
       "1             33428              33428                   33428  \n",
       "2             16775              16775                   16775  \n",
       "3              4877               4877                    4877  \n",
       "4             12895              12895                   12895  "
      ]
     },
     "execution_count": 25,
     "metadata": {},
     "output_type": "execute_result"
    }
   ],
   "source": [
    "final_df_cluster.groupby('cluster').count()"
   ]
  },
  {
   "cell_type": "code",
   "execution_count": 26,
   "id": "e5ad1c61",
   "metadata": {
    "execution": {
     "iopub.execute_input": "2022-07-11T18:48:58.734929Z",
     "iopub.status.busy": "2022-07-11T18:48:58.734535Z",
     "iopub.status.idle": "2022-07-11T18:48:58.761477Z",
     "shell.execute_reply": "2022-07-11T18:48:58.760197Z"
    },
    "papermill": {
     "duration": 0.043657,
     "end_time": "2022-07-11T18:48:58.764028",
     "exception": false,
     "start_time": "2022-07-11T18:48:58.720371",
     "status": "completed"
    },
    "tags": []
   },
   "outputs": [
    {
     "data": {
      "text/html": [
       "<div>\n",
       "<style scoped>\n",
       "    .dataframe tbody tr th:only-of-type {\n",
       "        vertical-align: middle;\n",
       "    }\n",
       "\n",
       "    .dataframe tbody tr th {\n",
       "        vertical-align: top;\n",
       "    }\n",
       "\n",
       "    .dataframe thead th {\n",
       "        text-align: right;\n",
       "    }\n",
       "</style>\n",
       "<table border=\"1\" class=\"dataframe\">\n",
       "  <thead>\n",
       "    <tr style=\"text-align: right;\">\n",
       "      <th></th>\n",
       "      <th>index</th>\n",
       "      <th>skillDevelopment</th>\n",
       "      <th>salaryBenefits</th>\n",
       "      <th>workLifeBalance</th>\n",
       "      <th>workSatisfaction</th>\n",
       "      <th>jobSecurity</th>\n",
       "      <th>careerGrowth</th>\n",
       "      <th>companyCulture</th>\n",
       "      <th>exhaustion</th>\n",
       "      <th>Depersonalization</th>\n",
       "      <th>PersonalAccomplishment</th>\n",
       "    </tr>\n",
       "    <tr>\n",
       "      <th>cluster</th>\n",
       "      <th></th>\n",
       "      <th></th>\n",
       "      <th></th>\n",
       "      <th></th>\n",
       "      <th></th>\n",
       "      <th></th>\n",
       "      <th></th>\n",
       "      <th></th>\n",
       "      <th></th>\n",
       "      <th></th>\n",
       "      <th></th>\n",
       "    </tr>\n",
       "  </thead>\n",
       "  <tbody>\n",
       "    <tr>\n",
       "      <th>0</th>\n",
       "      <td>48555.129089</td>\n",
       "      <td>2.554129</td>\n",
       "      <td>1.944615</td>\n",
       "      <td>2.421397</td>\n",
       "      <td>2.029708</td>\n",
       "      <td>3.336941</td>\n",
       "      <td>2.063519</td>\n",
       "      <td>2.374218</td>\n",
       "      <td>-1.140743</td>\n",
       "      <td>-1.164461</td>\n",
       "      <td>-0.860688</td>\n",
       "    </tr>\n",
       "    <tr>\n",
       "      <th>1</th>\n",
       "      <td>50152.722329</td>\n",
       "      <td>4.637998</td>\n",
       "      <td>4.548073</td>\n",
       "      <td>4.633750</td>\n",
       "      <td>4.617267</td>\n",
       "      <td>4.793496</td>\n",
       "      <td>4.544693</td>\n",
       "      <td>4.725859</td>\n",
       "      <td>0.880313</td>\n",
       "      <td>0.738488</td>\n",
       "      <td>1.060609</td>\n",
       "    </tr>\n",
       "    <tr>\n",
       "      <th>2</th>\n",
       "      <td>46135.070104</td>\n",
       "      <td>4.346766</td>\n",
       "      <td>2.887332</td>\n",
       "      <td>4.339136</td>\n",
       "      <td>4.213711</td>\n",
       "      <td>4.742474</td>\n",
       "      <td>4.034575</td>\n",
       "      <td>4.430820</td>\n",
       "      <td>0.454421</td>\n",
       "      <td>0.528496</td>\n",
       "      <td>-0.169789</td>\n",
       "    </tr>\n",
       "    <tr>\n",
       "      <th>3</th>\n",
       "      <td>53439.315563</td>\n",
       "      <td>3.589502</td>\n",
       "      <td>4.257125</td>\n",
       "      <td>3.537421</td>\n",
       "      <td>3.176953</td>\n",
       "      <td>4.074021</td>\n",
       "      <td>3.080582</td>\n",
       "      <td>3.706992</td>\n",
       "      <td>-0.134988</td>\n",
       "      <td>-0.223828</td>\n",
       "      <td>0.851280</td>\n",
       "    </tr>\n",
       "    <tr>\n",
       "      <th>4</th>\n",
       "      <td>46118.302520</td>\n",
       "      <td>3.607910</td>\n",
       "      <td>1.814812</td>\n",
       "      <td>3.872896</td>\n",
       "      <td>3.173788</td>\n",
       "      <td>4.610081</td>\n",
       "      <td>2.919038</td>\n",
       "      <td>3.866305</td>\n",
       "      <td>-0.320834</td>\n",
       "      <td>0.036064</td>\n",
       "      <td>-0.963286</td>\n",
       "    </tr>\n",
       "  </tbody>\n",
       "</table>\n",
       "</div>"
      ],
      "text/plain": [
       "                index  skillDevelopment  salaryBenefits  workLifeBalance  \\\n",
       "cluster                                                                    \n",
       "0        48555.129089          2.554129        1.944615         2.421397   \n",
       "1        50152.722329          4.637998        4.548073         4.633750   \n",
       "2        46135.070104          4.346766        2.887332         4.339136   \n",
       "3        53439.315563          3.589502        4.257125         3.537421   \n",
       "4        46118.302520          3.607910        1.814812         3.872896   \n",
       "\n",
       "         workSatisfaction  jobSecurity  careerGrowth  companyCulture  \\\n",
       "cluster                                                                \n",
       "0                2.029708     3.336941      2.063519        2.374218   \n",
       "1                4.617267     4.793496      4.544693        4.725859   \n",
       "2                4.213711     4.742474      4.034575        4.430820   \n",
       "3                3.176953     4.074021      3.080582        3.706992   \n",
       "4                3.173788     4.610081      2.919038        3.866305   \n",
       "\n",
       "         exhaustion  Depersonalization  PersonalAccomplishment  \n",
       "cluster                                                         \n",
       "0         -1.140743          -1.164461               -0.860688  \n",
       "1          0.880313           0.738488                1.060609  \n",
       "2          0.454421           0.528496               -0.169789  \n",
       "3         -0.134988          -0.223828                0.851280  \n",
       "4         -0.320834           0.036064               -0.963286  "
      ]
     },
     "execution_count": 26,
     "metadata": {},
     "output_type": "execute_result"
    }
   ],
   "source": [
    "x=final_df_cluster.groupby('cluster').mean()\n",
    "x"
   ]
  },
  {
   "cell_type": "code",
   "execution_count": 27,
   "id": "cc8a0c0d",
   "metadata": {
    "execution": {
     "iopub.execute_input": "2022-07-11T18:48:58.791555Z",
     "iopub.status.busy": "2022-07-11T18:48:58.791160Z",
     "iopub.status.idle": "2022-07-11T18:48:59.091157Z",
     "shell.execute_reply": "2022-07-11T18:48:59.089631Z"
    },
    "papermill": {
     "duration": 0.316913,
     "end_time": "2022-07-11T18:48:59.094026",
     "exception": false,
     "start_time": "2022-07-11T18:48:58.777113",
     "status": "completed"
    },
    "tags": []
   },
   "outputs": [
    {
     "data": {
      "text/plain": [
       "<matplotlib.axes._subplots.AxesSubplot at 0x1ece2e38bb0>"
      ]
     },
     "execution_count": 27,
     "metadata": {},
     "output_type": "execute_result"
    },
    {
     "data": {
      "image/png": "[encoded data removed]",
      "text/plain": [
       "<Figure size 432x288 with 1 Axes>"
      ]
     },
     "metadata": {
      "needs_background": "light"
     },
     "output_type": "display_data"
    }
   ],
   "source": [
    "x=x[['exhaustion','PersonalAccomplishment','Depersonalization']]\n",
    "x.plot(kind = \"bar\")"
   ]
  },
  {
   "cell_type": "code",
   "execution_count": 28,
   "id": "499428fa",
   "metadata": {
    "execution": {
     "iopub.execute_input": "2022-07-11T18:48:59.124046Z",
     "iopub.status.busy": "2022-07-11T18:48:59.123618Z",
     "iopub.status.idle": "2022-07-11T18:48:59.170792Z",
     "shell.execute_reply": "2022-07-11T18:48:59.169616Z"
    },
    "papermill": {
     "duration": 0.06579,
     "end_time": "2022-07-11T18:48:59.173489",
     "exception": false,
     "start_time": "2022-07-11T18:48:59.107699",
     "status": "completed"
    },
    "tags": []
   },
   "outputs": [
    {
     "data": {
      "text/html": [
       "<div>\n",
       "<style scoped>\n",
       "    .dataframe tbody tr th:only-of-type {\n",
       "        vertical-align: middle;\n",
       "    }\n",
       "\n",
       "    .dataframe tbody tr th {\n",
       "        vertical-align: top;\n",
       "    }\n",
       "\n",
       "    .dataframe thead th {\n",
       "        text-align: right;\n",
       "    }\n",
       "</style>\n",
       "<table border=\"1\" class=\"dataframe\">\n",
       "  <thead>\n",
       "    <tr style=\"text-align: right;\">\n",
       "      <th></th>\n",
       "      <th>index</th>\n",
       "      <th>skillDevelopment</th>\n",
       "      <th>salaryBenefits</th>\n",
       "      <th>workLifeBalance</th>\n",
       "      <th>workSatisfaction</th>\n",
       "      <th>jobSecurity</th>\n",
       "      <th>careerGrowth</th>\n",
       "      <th>companyCulture</th>\n",
       "      <th>exhaustion</th>\n",
       "      <th>Depersonalization</th>\n",
       "      <th>PersonalAccomplishment</th>\n",
       "    </tr>\n",
       "    <tr>\n",
       "      <th>cluster</th>\n",
       "      <th></th>\n",
       "      <th></th>\n",
       "      <th></th>\n",
       "      <th></th>\n",
       "      <th></th>\n",
       "      <th></th>\n",
       "      <th></th>\n",
       "      <th></th>\n",
       "      <th></th>\n",
       "      <th></th>\n",
       "      <th></th>\n",
       "    </tr>\n",
       "  </thead>\n",
       "  <tbody>\n",
       "    <tr>\n",
       "      <th>0</th>\n",
       "      <td>49217.0</td>\n",
       "      <td>3.0</td>\n",
       "      <td>2.0</td>\n",
       "      <td>3.0</td>\n",
       "      <td>2.0</td>\n",
       "      <td>4.0</td>\n",
       "      <td>2.0</td>\n",
       "      <td>3.0</td>\n",
       "      <td>-1.126969</td>\n",
       "      <td>-1.015002</td>\n",
       "      <td>-0.824463</td>\n",
       "    </tr>\n",
       "    <tr>\n",
       "      <th>1</th>\n",
       "      <td>50534.5</td>\n",
       "      <td>5.0</td>\n",
       "      <td>5.0</td>\n",
       "      <td>5.0</td>\n",
       "      <td>5.0</td>\n",
       "      <td>5.0</td>\n",
       "      <td>5.0</td>\n",
       "      <td>5.0</td>\n",
       "      <td>1.010825</td>\n",
       "      <td>0.886274</td>\n",
       "      <td>1.389865</td>\n",
       "    </tr>\n",
       "    <tr>\n",
       "      <th>2</th>\n",
       "      <td>42973.0</td>\n",
       "      <td>4.0</td>\n",
       "      <td>3.0</td>\n",
       "      <td>4.0</td>\n",
       "      <td>4.0</td>\n",
       "      <td>5.0</td>\n",
       "      <td>4.0</td>\n",
       "      <td>4.0</td>\n",
       "      <td>0.410772</td>\n",
       "      <td>0.526645</td>\n",
       "      <td>-0.088406</td>\n",
       "    </tr>\n",
       "    <tr>\n",
       "      <th>3</th>\n",
       "      <td>55073.0</td>\n",
       "      <td>4.0</td>\n",
       "      <td>4.0</td>\n",
       "      <td>4.0</td>\n",
       "      <td>3.0</td>\n",
       "      <td>4.0</td>\n",
       "      <td>3.0</td>\n",
       "      <td>4.0</td>\n",
       "      <td>-0.083680</td>\n",
       "      <td>-0.142478</td>\n",
       "      <td>0.666554</td>\n",
       "    </tr>\n",
       "    <tr>\n",
       "      <th>4</th>\n",
       "      <td>42601.0</td>\n",
       "      <td>4.0</td>\n",
       "      <td>2.0</td>\n",
       "      <td>4.0</td>\n",
       "      <td>3.0</td>\n",
       "      <td>5.0</td>\n",
       "      <td>3.0</td>\n",
       "      <td>4.0</td>\n",
       "      <td>-0.277342</td>\n",
       "      <td>0.046367</td>\n",
       "      <td>-0.833159</td>\n",
       "    </tr>\n",
       "  </tbody>\n",
       "</table>\n",
       "</div>"
      ],
      "text/plain": [
       "           index  skillDevelopment  salaryBenefits  workLifeBalance  \\\n",
       "cluster                                                               \n",
       "0        49217.0               3.0             2.0              3.0   \n",
       "1        50534.5               5.0             5.0              5.0   \n",
       "2        42973.0               4.0             3.0              4.0   \n",
       "3        55073.0               4.0             4.0              4.0   \n",
       "4        42601.0               4.0             2.0              4.0   \n",
       "\n",
       "         workSatisfaction  jobSecurity  careerGrowth  companyCulture  \\\n",
       "cluster                                                                \n",
       "0                     2.0          4.0           2.0             3.0   \n",
       "1                     5.0          5.0           5.0             5.0   \n",
       "2                     4.0          5.0           4.0             4.0   \n",
       "3                     3.0          4.0           3.0             4.0   \n",
       "4                     3.0          5.0           3.0             4.0   \n",
       "\n",
       "         exhaustion  Depersonalization  PersonalAccomplishment  \n",
       "cluster                                                         \n",
       "0         -1.126969          -1.015002               -0.824463  \n",
       "1          1.010825           0.886274                1.389865  \n",
       "2          0.410772           0.526645               -0.088406  \n",
       "3         -0.083680          -0.142478                0.666554  \n",
       "4         -0.277342           0.046367               -0.833159  "
      ]
     },
     "execution_count": 28,
     "metadata": {},
     "output_type": "execute_result"
    }
   ],
   "source": [
    "final_df_cluster.groupby('cluster').median()"
   ]
  },
  {
   "cell_type": "code",
   "execution_count": 29,
   "id": "a39194a5",
   "metadata": {
    "papermill": {
     "duration": 0.014073,
     "end_time": "2022-07-11T18:48:59.201748",
     "exception": false,
     "start_time": "2022-07-11T18:48:59.187675",
     "status": "completed"
    },
    "tags": []
   },
   "outputs": [],
   "source": [
    "data_final=data.merge(final_df_cluster[['index', 'exhaustion', 'Depersonalization', 'PersonalAccomplishment', 'cluster']],on='index',how='left')\n"
   ]
  },
  {
   "cell_type": "code",
   "execution_count": 30,
   "id": "bfb65cd2",
   "metadata": {},
   "outputs": [],
   "source": [
    "data_final.to_csv(r'C:\\Users\\bhava\\OneDrive\\Documents\\AMPBA\\Capstone\\Reviews\\Intermediate Files\\combinedReviewsClustered.csv')"
   ]
  },
  {
   "cell_type": "code",
   "execution_count": 31,
   "id": "0b1bf6cf",
   "metadata": {},
   "outputs": [],
   "source": [
    "def read_article(file_name):\n",
    "    # file = open(file_name, \"r\")\n",
    "    # filedata = file.readlines()\n",
    "    # article = filedata[0].split(\". \")\n",
    "    article=file_name.split(\". \")\n",
    "    sentences = []\n",
    "\n",
    "    for sentence in article:\n",
    "        sentences.append(sentence.replace(\"[^a-zA-Z]\", \" \").split(\" \"))\n",
    "    #sentences.pop() \n",
    "    \n",
    "    return sentences\n",
    "\n",
    "def sentence_similarity(sent1, sent2, stopwords=None):\n",
    "    if stopwords is None:\n",
    "        stopwords = []\n",
    " \n",
    "    sent1 = [w.lower() for w in sent1]\n",
    "    sent2 = [w.lower() for w in sent2]\n",
    " \n",
    "    all_words = list(set(sent1 + sent2))\n",
    " \n",
    "    vector1 = [0] * len(all_words)\n",
    "    vector2 = [0] * len(all_words)\n",
    " \n",
    "    # build the vector for the first sentence\n",
    "    for w in sent1:\n",
    "        if w in stopwords:\n",
    "            continue\n",
    "        vector1[all_words.index(w)] += 1\n",
    " \n",
    "    # build the vector for the second sentence\n",
    "    for w in sent2:\n",
    "        if w in stopwords:\n",
    "            continue\n",
    "        vector2[all_words.index(w)] += 1\n",
    " \n",
    "    return 1 - cosine_distance(vector1, vector2)\n",
    " \n",
    "def build_similarity_matrix(sentences, stop_words):\n",
    "    # Create an empty similarity matrix\n",
    "    similarity_matrix = np.zeros((len(sentences), len(sentences)))\n",
    " \n",
    "    for idx1 in range(len(sentences)):\n",
    "        for idx2 in range(len(sentences)):\n",
    "            if idx1 == idx2: #ignore if both are same sentences\n",
    "                continue \n",
    "            similarity_matrix[idx1][idx2] = sentence_similarity(sentences[idx1], sentences[idx2], stop_words)\n",
    "\n",
    "    return similarity_matrix\n",
    "\n",
    "\n",
    "def generate_summary(file_name, top_n=5):\n",
    "    nltk.download(\"stopwords\")\n",
    "    stop_words = stopwords.words('english')\n",
    "    summarize_text = []\n",
    "    summarize_text_list=[]\n",
    "\n",
    "    # Step 1 - Read text anc split it\n",
    "    sentences =  read_article(file_name)\n",
    "    #sentences =  file_name\n",
    "\n",
    "    # Step 2 - Generate Similary Martix across sentences\n",
    "    sentence_similarity_martix = build_similarity_matrix(sentences, stop_words)\n",
    "\n",
    "    # Step 3 - Rank sentences in similarity martix\n",
    "    sentence_similarity_graph = nx.from_numpy_array(sentence_similarity_martix)\n",
    "    scores = nx.pagerank(sentence_similarity_graph)\n",
    "\n",
    "    # Step 4 - Sort the rank and pick top sentences\n",
    "    ranked_sentence = sorted(((scores[i],s) for i,s in enumerate(sentences)), reverse=True)    \n",
    "    #print(\"Indexes of top ranked_sentence order are \", ranked_sentence)    \n",
    "\n",
    "    for i in range(top_n):\n",
    "      summarize_text.append(\" \".join(ranked_sentence[i][1]))\n",
    "      summarize_text_list.append(ranked_sentence[i][1])\n",
    "\n",
    "    # Step 5 - Offcourse, output the summarize text\n",
    "    print(\"Summarized Text: \\n\", \".\\n \".join(summarize_text))"
   ]
  },
  {
   "cell_type": "code",
   "execution_count": 32,
   "id": "61ca370f",
   "metadata": {},
   "outputs": [],
   "source": [
    "def compile_text(df,text_column):\n",
    "    compiled_text=''\n",
    "    for text in df[text_column].fillna('NA.'):\n",
    "        if text!='NA.':\n",
    "             compiled_text=compiled_text+' '+text\n",
    "    return compiled_text\n"
   ]
  },
  {
   "cell_type": "code",
   "execution_count": 33,
   "id": "987d09b2",
   "metadata": {},
   "outputs": [
    {
     "name": "stderr",
     "output_type": "stream",
     "text": [
      "[nltk_data] Downloading package stopwords to\n",
      "[nltk_data]     C:\\Users\\bhava\\AppData\\Roaming\\nltk_data...\n",
      "[nltk_data]   Package stopwords is already up-to-date!\n"
     ]
    },
    {
     "name": "stdout",
     "output_type": "stream",
     "text": [
      "Summarized Text: \n",
      " company policies are good , appraisals are fair and they give good salary hike and bonus every year Management is good work life balance is good.\n",
      " Work Culture is very good.\n",
      " Overall good Company to work with.\n",
      " Job security and work life balance will be awesome job security is good with HCL technologies.\n",
      " Good work environment and culture\n"
     ]
    }
   ],
   "source": [
    "compiled_text=compile_text(data_final[:100],'pros')\n",
    "generate_summary( compiled_text,5)"
   ]
  },
  {
   "cell_type": "code",
   "execution_count": 34,
   "id": "dfb41691",
   "metadata": {},
   "outputs": [],
   "source": [
    "def clean_location(location_name):\n",
    "    for loc in major_locations:\n",
    "        ind=-1\n",
    "        if location_name.find(loc)!=-1:\n",
    "            ind=location_name.find(loc)\n",
    "            return loc\n",
    "    if ind==-1:\n",
    "        return location_name"
   ]
  },
  {
   "cell_type": "code",
   "execution_count": 35,
   "id": "a53f1eec",
   "metadata": {},
   "outputs": [],
   "source": [
    "def extract_location(jobFunction):\n",
    "    try:\n",
    "        loc=jobFunction.split(' for ')[1].split(' in ')[1]\n",
    "        return loc\n",
    "    except:\n",
    "        return 'Not Specified'"
   ]
  },
  {
   "cell_type": "code",
   "execution_count": 36,
   "id": "62e347c3",
   "metadata": {},
   "outputs": [],
   "source": [
    "major_locations_df=pd.read_csv(r'C:\\Users\\bhava\\Downloads\\Re__Capstone_Project__Preliminary_Discussion\\Reviews\\Mapping Files\\Major Locations.csv')\n",
    "locations_mapping_df=pd.read_csv(r'C:\\Users\\bhava\\Downloads\\Re__Capstone_Project__Preliminary_Discussion\\Reviews\\Mapping Files\\Location Mapping.csv')"
   ]
  },
  {
   "cell_type": "code",
   "execution_count": 37,
   "id": "bf6a95e6",
   "metadata": {},
   "outputs": [],
   "source": [
    "#List of Major Locations\n",
    "major_locations=major_locations_df['Major Locations'].to_list()\n",
    "#Dictionary of Locations to be mapped\n",
    "location_mapping=locations_mapping_df.set_index('Original Value')['Mapped Value'].to_dict()"
   ]
  },
  {
   "cell_type": "code",
   "execution_count": 38,
   "id": "c9ea094f",
   "metadata": {},
   "outputs": [],
   "source": [
    "#Extracting Expirience and Location from jobFunction column\n",
    "data_final['extract_location']=data_final['jobFunction'].apply(lambda x:extract_location(x))\n",
    "#Imputing Blanks in Location column with data extracted from jobFunction, if available\n",
    "data_final['cleaned_location']=np.where(data_final['location'].isna(),data_final['extract_location'],data_final['location'])\n",
    "#Imputing unknown locations with Not Specified\n",
    "data_final['cleaned_location']=data_final['cleaned_location'].fillna('Not Specified')\n",
    "#Extracting location city from location columns\n",
    "data_final['cleaned_location']=data_final['cleaned_location'].apply(lambda x:clean_location(str(x)))\n",
    "#Harmonizing Locations\n",
    "data_final['cleaned_location']=data_final['cleaned_location'].map(location_mapping)\n",
    "#Bucketing all last 10% of the locations into 'Others'\n",
    "major_locations.append('Not Specified')\n",
    "data_final['cleaned_location']=np.where(data_final['cleaned_location'].isin(major_locations),data_final['cleaned_location'],'Others')"
   ]
  },
  {
   "cell_type": "code",
   "execution_count": 39,
   "id": "88bb7204",
   "metadata": {},
   "outputs": [],
   "source": [
    "pd.DataFrame(data_final.groupby(['company','cleaned_location','cluster']).size()).to_excel('companyloc_combo v2.xlsx')"
   ]
  },
  {
   "cell_type": "code",
   "execution_count": 42,
   "id": "da35ce99",
   "metadata": {},
   "outputs": [],
   "source": [
    "data_final.to_excel(r'DataFinalClLoc.xlsx')"
   ]
  },
  {
   "cell_type": "code",
   "execution_count": 43,
   "id": "3435132b",
   "metadata": {},
   "outputs": [
    {
     "data": {
      "text/plain": [
       "'c:\\\\Users\\\\bhava\\\\Downloads'"
      ]
     },
     "execution_count": 43,
     "metadata": {},
     "output_type": "execute_result"
    }
   ],
   "source": [
    "os.getcwd()"
   ]
  },
  {
   "cell_type": "code",
   "execution_count": null,
   "id": "6034cfaa",
   "metadata": {},
   "outputs": [],
   "source": []
  }
 ],
 "metadata": {
  "kernelspec": {
   "display_name": "Python 3.8.3 ('base')",
   "language": "python",
   "name": "python3"
  },
  "language_info": {
   "codemirror_mode": {
    "name": "ipython",
    "version": 3
   },
   "file_extension": ".py",
   "mimetype": "text/x-python",
   "name": "python",
   "nbconvert_exporter": "python",
   "pygments_lexer": "ipython3",
   "version": "3.8.3"
  },
  "papermill": {
   "default_parameters": {},
   "duration": 36.176467,
   "end_time": "2022-07-11T18:49:00.138881",
   "environment_variables": {},
   "exception": null,
   "input_path": "__notebook__.ipynb",
   "output_path": "__notebook__.ipynb",
   "parameters": {},
   "start_time": "2022-07-11T18:48:23.962414",
   "version": "2.3.4"
  },
  "vscode": {
   "interpreter": {
    "hash": "093a36aaca08c1b2b242d1289182f23fb1cb26af3e44b2542ac675ce96cb9170"
   }
  }
 },
 "nbformat": 4,
 "nbformat_minor": 5
}
