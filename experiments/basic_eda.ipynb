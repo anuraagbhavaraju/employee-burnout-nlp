{
 "cells": [
  {
   "cell_type": "code",
   "execution_count": 1,
   "id": "d7fb3105",
   "metadata": {},
   "outputs": [],
   "source": [
    "import intake\n",
    "from analysis_framework import DATA_CATALOG_PATH"
   ]
  },
  {
   "cell_type": "code",
   "execution_count": 2,
   "id": "775abb5c",
   "metadata": {},
   "outputs": [],
   "source": [
    "catalog_path = DATA_CATALOG_PATH.joinpath(\"catalog.yml\")\n",
    "catalog = intake.open_catalog(catalog_path)"
   ]
  },
  {
   "cell_type": "code",
   "execution_count": 3,
   "id": "91359938",
   "metadata": {},
   "outputs": [
    {
     "data": {
      "text/plain": [
       "['review_dataset']"
      ]
     },
     "execution_count": 3,
     "metadata": {},
     "output_type": "execute_result"
    }
   ],
   "source": [
    "list(catalog)"
   ]
  },
  {
   "cell_type": "code",
   "execution_count": 4,
   "id": "2460ca20",
   "metadata": {},
   "outputs": [],
   "source": [
    "df_raw = catalog.review_dataset.read()"
   ]
  },
  {
   "cell_type": "code",
   "execution_count": 5,
   "id": "1eb9e0e3",
   "metadata": {},
   "outputs": [
    {
     "name": "stdout",
     "output_type": "stream",
     "text": [
      "<class 'pandas.core.frame.DataFrame'>\n",
      "RangeIndex: 97097 entries, 0 to 97096\n",
      "Data columns (total 16 columns):\n",
      " #   Column            Non-Null Count  Dtype  \n",
      "---  ------            --------------  -----  \n",
      " 0   skillDevelopment  97006 non-null  float64\n",
      " 1   reviewText        43222 non-null  object \n",
      " 2   location          66513 non-null  object \n",
      " 3   cons              85931 non-null  object \n",
      " 4   salaryBenefits    96451 non-null  float64\n",
      " 5   workLifeBalance   97008 non-null  float64\n",
      " 6   pros              90430 non-null  object \n",
      " 7   workSatisfaction  96454 non-null  float64\n",
      " 8   postedon          97096 non-null  object \n",
      " 9   jobSecurity       96464 non-null  float64\n",
      " 10  careerGrowth      96446 non-null  float64\n",
      " 11  companyCulture    96473 non-null  float64\n",
      " 12  company           97096 non-null  object \n",
      " 13  jobFunction       96897 non-null  object \n",
      " 14  overallScore      97097 non-null  float64\n",
      " 15  file              97097 non-null  object \n",
      "dtypes: float64(8), object(8)\n",
      "memory usage: 11.9+ MB\n"
     ]
    }
   ],
   "source": [
    "df_raw.info()"
   ]
  },
  {
   "cell_type": "markdown",
   "id": "2f0e5b26",
   "metadata": {},
   "source": [
    "### Empty data percentage for each column"
   ]
  },
  {
   "cell_type": "code",
   "execution_count": 6,
   "id": "e5715a84",
   "metadata": {},
   "outputs": [
    {
     "data": {
      "text/plain": [
       "skillDevelopment     0.093721\n",
       "reviewText          55.485751\n",
       "location            31.498399\n",
       "cons                11.499840\n",
       "salaryBenefits       0.665314\n",
       "workLifeBalance      0.091661\n",
       "pros                 6.866330\n",
       "workSatisfaction     0.662224\n",
       "postedon             0.001030\n",
       "jobSecurity          0.651925\n",
       "careerGrowth         0.670464\n",
       "companyCulture       0.642656\n",
       "company              0.001030\n",
       "jobFunction          0.205980\n",
       "overallScore         0.000000\n",
       "file                 0.000000\n",
       "dtype: float64"
      ]
     },
     "execution_count": 6,
     "metadata": {},
     "output_type": "execute_result"
    }
   ],
   "source": [
    "df_raw.isnull().sum()/df_raw.shape[0] *100"
   ]
  },
  {
   "cell_type": "code",
   "execution_count": 16,
   "id": "d008bca3",
   "metadata": {},
   "outputs": [
    {
     "data": {
      "text/html": [
       "<div>\n",
       "<style scoped>\n",
       "    .dataframe tbody tr th:only-of-type {\n",
       "        vertical-align: middle;\n",
       "    }\n",
       "\n",
       "    .dataframe tbody tr th {\n",
       "        vertical-align: top;\n",
       "    }\n",
       "\n",
       "    .dataframe thead th {\n",
       "        text-align: right;\n",
       "    }\n",
       "</style>\n",
       "<table border=\"1\" class=\"dataframe\">\n",
       "  <thead>\n",
       "    <tr style=\"text-align: right;\">\n",
       "      <th></th>\n",
       "      <th>skillDevelopment</th>\n",
       "      <th>reviewText</th>\n",
       "      <th>location</th>\n",
       "      <th>cons</th>\n",
       "      <th>salaryBenefits</th>\n",
       "      <th>workLifeBalance</th>\n",
       "      <th>pros</th>\n",
       "      <th>workSatisfaction</th>\n",
       "      <th>postedon</th>\n",
       "      <th>jobSecurity</th>\n",
       "      <th>careerGrowth</th>\n",
       "      <th>companyCulture</th>\n",
       "      <th>company</th>\n",
       "      <th>jobFunction</th>\n",
       "      <th>overallScore</th>\n",
       "      <th>file</th>\n",
       "    </tr>\n",
       "  </thead>\n",
       "  <tbody>\n",
       "    <tr>\n",
       "      <th>0</th>\n",
       "      <td>1.0</td>\n",
       "      <td>Its good and managable only because of team.</td>\n",
       "      <td>Lucknow</td>\n",
       "      <td>Fake offers were given while recruiting. Wrong...</td>\n",
       "      <td>1.0</td>\n",
       "      <td>3.0</td>\n",
       "      <td>Only my collegues and work culture. There is n...</td>\n",
       "      <td>3.0</td>\n",
       "      <td>21-Apr-22</td>\n",
       "      <td>4.0</td>\n",
       "      <td>1.0</td>\n",
       "      <td>4.0</td>\n",
       "      <td>HCL Technologies</td>\n",
       "      <td>Hr Executive</td>\n",
       "      <td>1.0</td>\n",
       "      <td>hcl</td>\n",
       "    </tr>\n",
       "  </tbody>\n",
       "</table>\n",
       "</div>"
      ],
      "text/plain": [
       "   skillDevelopment                                    reviewText location  \\\n",
       "0               1.0  Its good and managable only because of team.  Lucknow   \n",
       "\n",
       "                                                cons  salaryBenefits  \\\n",
       "0  Fake offers were given while recruiting. Wrong...             1.0   \n",
       "\n",
       "   workLifeBalance                                               pros  \\\n",
       "0              3.0  Only my collegues and work culture. There is n...   \n",
       "\n",
       "   workSatisfaction   postedon  jobSecurity  careerGrowth  companyCulture  \\\n",
       "0               3.0  21-Apr-22          4.0           1.0             4.0   \n",
       "\n",
       "            company   jobFunction  overallScore file  \n",
       "0  HCL Technologies  Hr Executive           1.0  hcl  "
      ]
     },
     "execution_count": 16,
     "metadata": {},
     "output_type": "execute_result"
    }
   ],
   "source": [
    "df_raw.head(1)"
   ]
  },
  {
   "cell_type": "markdown",
   "id": "c6da3e1c",
   "metadata": {},
   "source": [
    "### Correlation check\n"
   ]
  },
  {
   "cell_type": "code",
   "execution_count": 20,
   "id": "5408c6b4",
   "metadata": {},
   "outputs": [
    {
     "data": {
      "text/plain": [
       "<AxesSubplot:>"
      ]
     },
     "execution_count": 20,
     "metadata": {},
     "output_type": "execute_result"
    },
    {
     "data": {
      "image/png": "[encoded data removed]",
      "text/plain": [
       "<Figure size 432x288 with 2 Axes>"
      ]
     },
     "metadata": {
      "needs_background": "light"
     },
     "output_type": "display_data"
    }
   ],
   "source": [
    "import seaborn as sb\n",
    "corr = df_raw.corr()\n",
    "sb.heatmap(corr, cmap=\"Reds\", annot=True)"
   ]
  },
  {
   "cell_type": "markdown",
   "id": "789a4946",
   "metadata": {},
   "source": [
    "#### Insights\n",
    "- career growth and work satisfaction are highly correlated (0.81)\n",
    "- salary benefits and job security is least correlated (0.42)\n",
    "- Potential strong (>0.5) correaltion among all the features"
   ]
  },
  {
   "cell_type": "code",
   "execution_count": null,
   "id": "25f2adf9",
   "metadata": {},
   "outputs": [],
   "source": []
  }
 ],
 "metadata": {
  "kernelspec": {
   "display_name": "mlops",
   "language": "python",
   "name": "mlops"
  },
  "language_info": {
   "codemirror_mode": {
    "name": "ipython",
    "version": 3
   },
   "file_extension": ".py",
   "mimetype": "text/x-python",
   "name": "python",
   "nbconvert_exporter": "python",
   "pygments_lexer": "ipython3",
   "version": "3.8.12"
  }
 },
 "nbformat": 4,
 "nbformat_minor": 5
}
