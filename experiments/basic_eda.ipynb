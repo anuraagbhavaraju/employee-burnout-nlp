{
 "cells": [
  {
   "cell_type": "code",
   "execution_count": 19,
   "id": "d7fb3105",
   "metadata": {},
   "outputs": [],
   "source": [
    "import intake\n",
    "from analysis_framework import DATA_CATALOG_PATH"
   ]
  },
  {
   "cell_type": "code",
   "execution_count": 20,
   "id": "775abb5c",
   "metadata": {},
   "outputs": [],
   "source": [
    "catalog_path = DATA_CATALOG_PATH.joinpath(\"catalog.yml\")\n",
    "catalog = intake.open_catalog(catalog_path)"
   ]
  },
  {
   "cell_type": "code",
   "execution_count": 21,
   "id": "91359938",
   "metadata": {},
   "outputs": [
    {
     "data": {
      "text/plain": [
       "['review_dataset']"
      ]
     },
     "execution_count": 21,
     "metadata": {},
     "output_type": "execute_result"
    }
   ],
   "source": [
    "list(catalog)"
   ]
  },
  {
   "cell_type": "code",
   "execution_count": 22,
   "id": "2460ca20",
   "metadata": {},
   "outputs": [],
   "source": [
    "df_raw = catalog.review_dataset.read()"
   ]
  },
  {
   "cell_type": "code",
   "execution_count": 23,
   "id": "1eb9e0e3",
   "metadata": {},
   "outputs": [
    {
     "name": "stdout",
     "output_type": "stream",
     "text": [
      "<class 'pandas.core.frame.DataFrame'>\n",
      "RangeIndex: 97097 entries, 0 to 97096\n",
      "Data columns (total 16 columns):\n",
      " #   Column            Non-Null Count  Dtype  \n",
      "---  ------            --------------  -----  \n",
      " 0   skillDevelopment  97006 non-null  float64\n",
      " 1   reviewText        43222 non-null  object \n",
      " 2   location          66513 non-null  object \n",
      " 3   cons              85931 non-null  object \n",
      " 4   salaryBenefits    96451 non-null  float64\n",
      " 5   workLifeBalance   97008 non-null  float64\n",
      " 6   pros              90430 non-null  object \n",
      " 7   workSatisfaction  96454 non-null  float64\n",
      " 8   postedon          97096 non-null  object \n",
      " 9   jobSecurity       96464 non-null  float64\n",
      " 10  careerGrowth      96446 non-null  float64\n",
      " 11  companyCulture    96473 non-null  float64\n",
      " 12  company           97096 non-null  object \n",
      " 13  jobFunction       96897 non-null  object \n",
      " 14  overallScore      97097 non-null  float64\n",
      " 15  file              97097 non-null  object \n",
      "dtypes: float64(8), object(8)\n",
      "memory usage: 11.9+ MB\n"
     ]
    }
   ],
   "source": [
    "df_raw.info()"
   ]
  },
  {
   "cell_type": "markdown",
   "id": "2f0e5b26",
   "metadata": {},
   "source": [
    "### Empty data percentage for each column"
   ]
  },
  {
   "cell_type": "code",
   "execution_count": 60,
   "id": "e5715a84",
   "metadata": {},
   "outputs": [
    {
     "data": {
      "text/plain": [
       "skillDevelopment     0.093721\n",
       "reviewText          55.485751\n",
       "location            31.498399\n",
       "cons                11.499840\n",
       "salaryBenefits       0.665314\n",
       "workLifeBalance      0.091661\n",
       "pros                 6.866330\n",
       "workSatisfaction     0.662224\n",
       "postedon             0.001030\n",
       "jobSecurity          0.651925\n",
       "careerGrowth         0.670464\n",
       "companyCulture       0.642656\n",
       "company              0.001030\n",
       "jobFunction          0.205980\n",
       "overallScore         0.000000\n",
       "file                 0.000000\n",
       "dtype: float64"
      ]
     },
     "execution_count": 60,
     "metadata": {},
     "output_type": "execute_result"
    }
   ],
   "source": [
    "df_raw.isnull().sum()/df_raw.shape[0] *100"
   ]
  },
  {
   "cell_type": "code",
   "execution_count": 70,
   "id": "d008bca3",
   "metadata": {},
   "outputs": [
    {
     "data": {
      "text/html": [
       "<div>\n",
       "<style scoped>\n",
       "    .dataframe tbody tr th:only-of-type {\n",
       "        vertical-align: middle;\n",
       "    }\n",
       "\n",
       "    .dataframe tbody tr th {\n",
       "        vertical-align: top;\n",
       "    }\n",
       "\n",
       "    .dataframe thead th {\n",
       "        text-align: right;\n",
       "    }\n",
       "</style>\n",
       "<table border=\"1\" class=\"dataframe\">\n",
       "  <thead>\n",
       "    <tr style=\"text-align: right;\">\n",
       "      <th></th>\n",
       "      <th>skillDevelopment</th>\n",
       "      <th>reviewText</th>\n",
       "      <th>location</th>\n",
       "      <th>cons</th>\n",
       "      <th>salaryBenefits</th>\n",
       "      <th>workLifeBalance</th>\n",
       "      <th>pros</th>\n",
       "      <th>workSatisfaction</th>\n",
       "      <th>postedon</th>\n",
       "      <th>jobSecurity</th>\n",
       "      <th>careerGrowth</th>\n",
       "      <th>companyCulture</th>\n",
       "      <th>company</th>\n",
       "      <th>jobFunction</th>\n",
       "      <th>overallScore</th>\n",
       "      <th>file</th>\n",
       "    </tr>\n",
       "  </thead>\n",
       "  <tbody>\n",
       "    <tr>\n",
       "      <th>0</th>\n",
       "      <td>1.0</td>\n",
       "      <td>Its good and managable only because of team.</td>\n",
       "      <td>Lucknow</td>\n",
       "      <td>Fake offers were given while recruiting. Wrong...</td>\n",
       "      <td>1.0</td>\n",
       "      <td>3.0</td>\n",
       "      <td>Only my collegues and work culture. There is n...</td>\n",
       "      <td>3.0</td>\n",
       "      <td>21-Apr-22</td>\n",
       "      <td>4.0</td>\n",
       "      <td>1.0</td>\n",
       "      <td>4.0</td>\n",
       "      <td>HCL Technologies</td>\n",
       "      <td>Hr Executive</td>\n",
       "      <td>1.0</td>\n",
       "      <td>hcl</td>\n",
       "    </tr>\n",
       "    <tr>\n",
       "      <th>1</th>\n",
       "      <td>4.0</td>\n",
       "      <td>Very balanced and rarely pressuring.</td>\n",
       "      <td>Noida</td>\n",
       "      <td>* Although it's WFH as of now but no general t...</td>\n",
       "      <td>2.0</td>\n",
       "      <td>5.0</td>\n",
       "      <td>Overall good experience for me! Very much secu...</td>\n",
       "      <td>4.0</td>\n",
       "      <td>16-Apr-22</td>\n",
       "      <td>5.0</td>\n",
       "      <td>4.0</td>\n",
       "      <td>3.0</td>\n",
       "      <td>HCL Technologies</td>\n",
       "      <td>Technical Lead</td>\n",
       "      <td>4.0</td>\n",
       "      <td>hcl</td>\n",
       "    </tr>\n",
       "    <tr>\n",
       "      <th>2</th>\n",
       "      <td>3.0</td>\n",
       "      <td>working hours are 9:30 hours no shift allowanc...</td>\n",
       "      <td>Greater Noida</td>\n",
       "      <td>Management always listen what the manager sayi...</td>\n",
       "      <td>2.0</td>\n",
       "      <td>3.0</td>\n",
       "      <td>Job security is there Client or Customer centr...</td>\n",
       "      <td>1.0</td>\n",
       "      <td>20-Apr-22</td>\n",
       "      <td>4.0</td>\n",
       "      <td>2.0</td>\n",
       "      <td>2.0</td>\n",
       "      <td>HCL Technologies</td>\n",
       "      <td>Senior Specialist</td>\n",
       "      <td>3.0</td>\n",
       "      <td>hcl</td>\n",
       "    </tr>\n",
       "    <tr>\n",
       "      <th>3</th>\n",
       "      <td>1.0</td>\n",
       "      <td>Too bad for a mid level experienced. Enquire p...</td>\n",
       "      <td>Chennai</td>\n",
       "      <td>Work culture is too bad and experienced so man...</td>\n",
       "      <td>1.0</td>\n",
       "      <td>2.0</td>\n",
       "      <td>It is a growing organization and has multiple ...</td>\n",
       "      <td>1.0</td>\n",
       "      <td>09-Dec-21</td>\n",
       "      <td>4.0</td>\n",
       "      <td>1.0</td>\n",
       "      <td>1.0</td>\n",
       "      <td>HCL Technologies</td>\n",
       "      <td>Senior Technical Lead</td>\n",
       "      <td>1.0</td>\n",
       "      <td>hcl</td>\n",
       "    </tr>\n",
       "    <tr>\n",
       "      <th>4</th>\n",
       "      <td>1.0</td>\n",
       "      <td>Is there anything called work life balance her...</td>\n",
       "      <td>Chennai</td>\n",
       "      <td>Why not paying your employees good!? .Stop ove...</td>\n",
       "      <td>4.0</td>\n",
       "      <td>1.0</td>\n",
       "      <td>Hcl is avery good organization,But the middle ...</td>\n",
       "      <td>1.0</td>\n",
       "      <td>04-Mar-22</td>\n",
       "      <td>4.0</td>\n",
       "      <td>1.0</td>\n",
       "      <td>1.0</td>\n",
       "      <td>HCL Technologies</td>\n",
       "      <td>Software Engineer</td>\n",
       "      <td>1.0</td>\n",
       "      <td>hcl</td>\n",
       "    </tr>\n",
       "  </tbody>\n",
       "</table>\n",
       "</div>"
      ],
      "text/plain": [
       "   skillDevelopment                                         reviewText  \\\n",
       "0               1.0       Its good and managable only because of team.   \n",
       "1               4.0               Very balanced and rarely pressuring.   \n",
       "2               3.0  working hours are 9:30 hours no shift allowanc...   \n",
       "3               1.0  Too bad for a mid level experienced. Enquire p...   \n",
       "4               1.0  Is there anything called work life balance her...   \n",
       "\n",
       "        location                                               cons  \\\n",
       "0        Lucknow  Fake offers were given while recruiting. Wrong...   \n",
       "1          Noida  * Although it's WFH as of now but no general t...   \n",
       "2  Greater Noida  Management always listen what the manager sayi...   \n",
       "3        Chennai  Work culture is too bad and experienced so man...   \n",
       "4        Chennai  Why not paying your employees good!? .Stop ove...   \n",
       "\n",
       "   salaryBenefits  workLifeBalance  \\\n",
       "0             1.0              3.0   \n",
       "1             2.0              5.0   \n",
       "2             2.0              3.0   \n",
       "3             1.0              2.0   \n",
       "4             4.0              1.0   \n",
       "\n",
       "                                                pros  workSatisfaction  \\\n",
       "0  Only my collegues and work culture. There is n...               3.0   \n",
       "1  Overall good experience for me! Very much secu...               4.0   \n",
       "2  Job security is there Client or Customer centr...               1.0   \n",
       "3  It is a growing organization and has multiple ...               1.0   \n",
       "4  Hcl is avery good organization,But the middle ...               1.0   \n",
       "\n",
       "    postedon  jobSecurity  careerGrowth  companyCulture           company  \\\n",
       "0  21-Apr-22          4.0           1.0             4.0  HCL Technologies   \n",
       "1  16-Apr-22          5.0           4.0             3.0  HCL Technologies   \n",
       "2  20-Apr-22          4.0           2.0             2.0  HCL Technologies   \n",
       "3  09-Dec-21          4.0           1.0             1.0  HCL Technologies   \n",
       "4  04-Mar-22          4.0           1.0             1.0  HCL Technologies   \n",
       "\n",
       "             jobFunction  overallScore file  \n",
       "0           Hr Executive           1.0  hcl  \n",
       "1         Technical Lead           4.0  hcl  \n",
       "2      Senior Specialist           3.0  hcl  \n",
       "3  Senior Technical Lead           1.0  hcl  \n",
       "4      Software Engineer           1.0  hcl  "
      ]
     },
     "execution_count": 70,
     "metadata": {},
     "output_type": "execute_result"
    }
   ],
   "source": [
    "df_raw.head(5)"
   ]
  },
  {
   "cell_type": "code",
   "execution_count": 83,
   "id": "0930beed",
   "metadata": {},
   "outputs": [
    {
     "data": {
      "text/plain": [
       "<AxesSubplot:>"
      ]
     },
     "execution_count": 83,
     "metadata": {},
     "output_type": "execute_result"
    },
    {
     "data": {
      "image/png": "[encoded data removed]",
      "text/plain": [
       "<Figure size 432x288 with 1 Axes>"
      ]
     },
     "metadata": {
      "needs_background": "light"
     },
     "output_type": "display_data"
    }
   ],
   "source": [
    "df_raw.workSatisfaction.value_counts().reset_index().sort_values(by='workSatisfaction').drop('index', axis=1).plot(kind='bar')"
   ]
  },
  {
   "cell_type": "code",
   "execution_count": 84,
   "id": "5f02ba85",
   "metadata": {},
   "outputs": [
    {
     "data": {
      "text/plain": [
       "<AxesSubplot:>"
      ]
     },
     "execution_count": 84,
     "metadata": {},
     "output_type": "execute_result"
    },
    {
     "data": {
      "image/png": "[encoded data removed]",
      "text/plain": [
       "<Figure size 432x288 with 1 Axes>"
      ]
     },
     "metadata": {
      "needs_background": "light"
     },
     "output_type": "display_data"
    }
   ],
   "source": [
    "df_raw.salaryBenefits.value_counts().reset_index().sort_values(by='salaryBenefits').drop('index', axis=1).plot(kind='bar')"
   ]
  },
  {
   "cell_type": "code",
   "execution_count": 85,
   "id": "796b6fa0",
   "metadata": {},
   "outputs": [
    {
     "data": {
      "text/plain": [
       "<AxesSubplot:>"
      ]
     },
     "execution_count": 85,
     "metadata": {},
     "output_type": "execute_result"
    },
    {
     "data": {
      "image/png": "[encoded data removed]",
      "text/plain": [
       "<Figure size 432x288 with 1 Axes>"
      ]
     },
     "metadata": {
      "needs_background": "light"
     },
     "output_type": "display_data"
    }
   ],
   "source": [
    "df_raw.skillDevelopment.value_counts().reset_index().sort_values(by='skillDevelopment').drop('index', axis=1).plot(kind='bar')"
   ]
  },
  {
   "cell_type": "code",
   "execution_count": null,
   "id": "5408c6b4",
   "metadata": {},
   "outputs": [],
   "source": []
  }
 ],
 "metadata": {
  "kernelspec": {
   "display_name": "mlops",
   "language": "python",
   "name": "mlops"
  },
  "language_info": {
   "codemirror_mode": {
    "name": "ipython",
    "version": 3
   },
   "file_extension": ".py",
   "mimetype": "text/x-python",
   "name": "python",
   "nbconvert_exporter": "python",
   "pygments_lexer": "ipython3",
   "version": "3.8.12"
  }
 },
 "nbformat": 4,
 "nbformat_minor": 5
}