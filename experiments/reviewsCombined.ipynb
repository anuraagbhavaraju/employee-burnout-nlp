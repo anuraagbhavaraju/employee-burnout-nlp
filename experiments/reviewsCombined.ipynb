{
 "cells": [
  {
   "cell_type": "code",
   "execution_count": 1,
   "metadata": {},
   "outputs": [],
   "source": [
    "import os\n",
    "import calendar\n",
    "import numpy as np\n",
    "import pandas as pd"
   ]
  },
  {
   "cell_type": "code",
   "execution_count": 2,
   "metadata": {},
   "outputs": [],
   "source": [
    "os.chdir(r'C:\\Users\\bhava\\Downloads\\Re__Capstone_Project__Preliminary_Discussion\\Reviews\\Raw Files')"
   ]
  },
  {
   "cell_type": "code",
   "execution_count": 6,
   "metadata": {},
   "outputs": [
    {
     "name": "stdout",
     "output_type": "stream",
     "text": [
      "Reading File : hclReviews.csv\n",
      "Reading File : infosysReviews.csv\n",
      "Reading File : tcsReviews.csv\n",
      "Reading File : wiproReviews.csv\n"
     ]
    }
   ],
   "source": [
    "reviews_df=pd.DataFrame()\n",
    "for file in os.listdir():\n",
    "    print('Reading File :',file)\n",
    "    temp_df=pd.read_csv(file)\n",
    "    temp_df['file']=file.split('Reviews')[0]\n",
    "    reviews_df=reviews_df.append(temp_df)\n",
    "    "
   ]
  },
  {
   "cell_type": "code",
   "execution_count": 11,
   "metadata": {},
   "outputs": [],
   "source": [
    "reviews_df.to_csv(r'combinedReviews.csv')"
   ]
  },
  {
   "cell_type": "code",
   "execution_count": null,
   "metadata": {},
   "outputs": [],
   "source": []
  }
 ],
 "metadata": {
  "kernelspec": {
   "display_name": "Python 3",
   "language": "python",
   "name": "python3"
  },
  "language_info": {
   "codemirror_mode": {
    "name": "ipython",
    "version": 3
   },
   "file_extension": ".py",
   "mimetype": "text/x-python",
   "name": "python",
   "nbconvert_exporter": "python",
   "pygments_lexer": "ipython3",
   "version": "3.8.3"
  }
 },
 "nbformat": 4,
 "nbformat_minor": 4
}
